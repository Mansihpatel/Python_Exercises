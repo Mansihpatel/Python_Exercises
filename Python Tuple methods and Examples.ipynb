{
 "cells": [
  {
   "cell_type": "code",
   "execution_count": 2,
   "metadata": {
    "ExecuteTime": {
     "end_time": "2024-05-13T07:22:13.268437Z",
     "start_time": "2024-05-13T07:22:13.241723Z"
    }
   },
   "outputs": [
    {
     "name": "stdout",
     "output_type": "stream",
     "text": [
      "['__add__', '__class__', '__contains__', '__delattr__', '__dir__', '__doc__', '__eq__', '__format__', '__ge__', '__getattribute__', '__getitem__', '__getnewargs__', '__gt__', '__hash__', '__init__', '__init_subclass__', '__iter__', '__le__', '__len__', '__lt__', '__mul__', '__ne__', '__new__', '__reduce__', '__reduce_ex__', '__repr__', '__rmul__', '__setattr__', '__sizeof__', '__str__', '__subclasshook__', 'count', 'index']\n"
     ]
    }
   ],
   "source": [
    "print(dir(tuple))"
   ]
  },
  {
   "cell_type": "code",
   "execution_count": 3,
   "metadata": {
    "ExecuteTime": {
     "end_time": "2024-05-13T07:43:33.923523Z",
     "start_time": "2024-05-13T07:43:33.917021Z"
    }
   },
   "outputs": [],
   "source": [
    "# *Tuples are used to store multiple values in single variable.\n",
    "# *Tuples is a collection which is ordered and unchangeble.\n",
    "# *Tuples are written in round bracket. "
   ]
  },
  {
   "cell_type": "code",
   "execution_count": 5,
   "metadata": {
    "ExecuteTime": {
     "end_time": "2024-05-13T07:45:09.268849Z",
     "start_time": "2024-05-13T07:45:09.259359Z"
    }
   },
   "outputs": [
    {
     "name": "stdout",
     "output_type": "stream",
     "text": [
      "('Apple', 'Banana', 'cherry')\n",
      "('Apple', 'Banana', 'cherry')\n"
     ]
    }
   ],
   "source": [
    "#tuple creation\n",
    "tup1 = ('Apple','Banana','cherry')\n",
    "print(tup1)\n",
    "\n",
    "tup2 = tuple(('Apple','Banana','cherry'))\n",
    "print(tup2)"
   ]
  },
  {
   "cell_type": "code",
   "execution_count": 6,
   "metadata": {
    "ExecuteTime": {
     "end_time": "2024-05-13T07:45:55.749450Z",
     "start_time": "2024-05-13T07:45:55.737483Z"
    }
   },
   "outputs": [
    {
     "data": {
      "text/plain": [
       "tuple"
      ]
     },
     "execution_count": 6,
     "metadata": {},
     "output_type": "execute_result"
    }
   ],
   "source": [
    "t1 = (11,11.50,'ABC','xyz',(1,2))\n",
    "type(t1)"
   ]
  },
  {
   "cell_type": "code",
   "execution_count": 7,
   "metadata": {
    "ExecuteTime": {
     "end_time": "2024-05-13T07:46:27.618544Z",
     "start_time": "2024-05-13T07:46:27.607571Z"
    }
   },
   "outputs": [
    {
     "data": {
      "text/plain": [
       "3"
      ]
     },
     "execution_count": 7,
     "metadata": {},
     "output_type": "execute_result"
    }
   ],
   "source": [
    "#index\n",
    "t1.index('xyz')"
   ]
  },
  {
   "cell_type": "code",
   "execution_count": 12,
   "metadata": {
    "ExecuteTime": {
     "end_time": "2024-05-13T07:47:03.251318Z",
     "start_time": "2024-05-13T07:47:03.228054Z"
    }
   },
   "outputs": [
    {
     "ename": "ValueError",
     "evalue": "tuple.index(x): x not in tuple",
     "output_type": "error",
     "traceback": [
      "\u001b[1;31m---------------------------------------------------------------------------\u001b[0m",
      "\u001b[1;31mValueError\u001b[0m                                Traceback (most recent call last)",
      "\u001b[1;32m<ipython-input-12-5d8be89113d6>\u001b[0m in \u001b[0;36m<module>\u001b[1;34m\u001b[0m\n\u001b[1;32m----> 1\u001b[1;33m \u001b[0mt1\u001b[0m\u001b[1;33m.\u001b[0m\u001b[0mindex\u001b[0m\u001b[1;33m(\u001b[0m\u001b[1;34m'11.50'\u001b[0m\u001b[1;33m)\u001b[0m\u001b[1;33m\u001b[0m\u001b[1;33m\u001b[0m\u001b[0m\n\u001b[0m",
      "\u001b[1;31mValueError\u001b[0m: tuple.index(x): x not in tuple"
     ]
    }
   ],
   "source": [
    "t1.index('11.50')"
   ]
  },
  {
   "cell_type": "code",
   "execution_count": 13,
   "metadata": {
    "ExecuteTime": {
     "end_time": "2024-05-13T07:47:47.592109Z",
     "start_time": "2024-05-13T07:47:47.582133Z"
    }
   },
   "outputs": [
    {
     "data": {
      "text/plain": [
       "1"
      ]
     },
     "execution_count": 13,
     "metadata": {},
     "output_type": "execute_result"
    }
   ],
   "source": [
    "# count\n",
    "t1.count(11)"
   ]
  },
  {
   "cell_type": "code",
   "execution_count": 15,
   "metadata": {
    "ExecuteTime": {
     "end_time": "2024-05-13T07:53:04.570272Z",
     "start_time": "2024-05-13T07:53:04.560804Z"
    }
   },
   "outputs": [
    {
     "data": {
      "text/plain": [
       "(11, 11.5)"
      ]
     },
     "execution_count": 15,
     "metadata": {},
     "output_type": "execute_result"
    }
   ],
   "source": [
    "# Access tuples using indexing\n",
    "t1[0],t1[1]"
   ]
  },
  {
   "cell_type": "code",
   "execution_count": null,
   "metadata": {},
   "outputs": [],
   "source": [
    "# Concatenation\n",
    "# Nesting\n",
    "# Repetition\n",
    "# Slicing\n",
    "# Deleting\n",
    "# Finding the length\n",
    "# Conversion of tuples to list\n",
    "# Tuples in a Loop"
   ]
  },
  {
   "cell_type": "code",
   "execution_count": 16,
   "metadata": {
    "ExecuteTime": {
     "end_time": "2024-05-13T07:55:20.826534Z",
     "start_time": "2024-05-13T07:55:20.811271Z"
    }
   },
   "outputs": [
    {
     "data": {
      "text/plain": [
       "(0, 1, 2, 3, 'python', 'programs')"
      ]
     },
     "execution_count": 16,
     "metadata": {},
     "output_type": "execute_result"
    }
   ],
   "source": [
    "#Concatination\n",
    "tup1 = (0,1,2,3)\n",
    "tup2 = ('python','programs')\n",
    "\n",
    "tup1 + tup2 "
   ]
  },
  {
   "cell_type": "code",
   "execution_count": 17,
   "metadata": {
    "ExecuteTime": {
     "end_time": "2024-05-13T07:56:54.048641Z",
     "start_time": "2024-05-13T07:56:54.027277Z"
    }
   },
   "outputs": [
    {
     "name": "stdout",
     "output_type": "stream",
     "text": [
      "((0, 1, 2, 3), ('python', 'geek'))\n"
     ]
    }
   ],
   "source": [
    "# Code for creating nested tuples\n",
    "tuple1 = (0, 1, 2, 3)\n",
    "tuple2 = ('python', 'geek')\n",
    "\n",
    "tuple3 = (tuple1,tuple2)\n",
    "print(tuple3)"
   ]
  },
  {
   "cell_type": "code",
   "execution_count": 20,
   "metadata": {
    "ExecuteTime": {
     "end_time": "2024-05-13T07:58:16.252781Z",
     "start_time": "2024-05-13T07:58:16.237502Z"
    }
   },
   "outputs": [
    {
     "data": {
      "text/plain": [
       "'pythonpythonpython'"
      ]
     },
     "execution_count": 20,
     "metadata": {},
     "output_type": "execute_result"
    }
   ],
   "source": [
    "#Repetition Python Tuples\n",
    "\n",
    "tuple1*3\n",
    "tup3 = 'python'\n",
    "tup3*3"
   ]
  },
  {
   "cell_type": "code",
   "execution_count": 28,
   "metadata": {
    "ExecuteTime": {
     "end_time": "2024-05-13T08:00:36.727199Z",
     "start_time": "2024-05-13T08:00:36.707403Z"
    }
   },
   "outputs": [
    {
     "name": "stdout",
     "output_type": "stream",
     "text": [
      "y\n",
      "xy\n"
     ]
    }
   ],
   "source": [
    "#Slicing Tuples in Python\n",
    "\n",
    "t1[0:2]\n",
    "print(t1[3][1])\n",
    "print(t1[3][0:2])"
   ]
  },
  {
   "cell_type": "code",
   "execution_count": 29,
   "metadata": {
    "ExecuteTime": {
     "end_time": "2024-05-13T08:01:59.558064Z",
     "start_time": "2024-05-13T08:01:59.536310Z"
    }
   },
   "outputs": [
    {
     "ename": "NameError",
     "evalue": "name 'tuple3' is not defined",
     "output_type": "error",
     "traceback": [
      "\u001b[1;31m---------------------------------------------------------------------------\u001b[0m",
      "\u001b[1;31mNameError\u001b[0m                                 Traceback (most recent call last)",
      "\u001b[1;32m<ipython-input-29-1acd5ffc61d3>\u001b[0m in \u001b[0;36m<module>\u001b[1;34m\u001b[0m\n\u001b[0;32m      2\u001b[0m \u001b[1;33m\u001b[0m\u001b[0m\n\u001b[0;32m      3\u001b[0m \u001b[1;32mdel\u001b[0m \u001b[0mtuple3\u001b[0m\u001b[1;33m\u001b[0m\u001b[1;33m\u001b[0m\u001b[0m\n\u001b[1;32m----> 4\u001b[1;33m \u001b[0mtuple3\u001b[0m\u001b[1;33m\u001b[0m\u001b[1;33m\u001b[0m\u001b[0m\n\u001b[0m",
      "\u001b[1;31mNameError\u001b[0m: name 'tuple3' is not defined"
     ]
    }
   ],
   "source": [
    "#Deleting a Tuple in Python\n",
    "\n",
    "del tuple3\n",
    "tuple3"
   ]
  },
  {
   "cell_type": "code",
   "execution_count": 31,
   "metadata": {
    "ExecuteTime": {
     "end_time": "2024-05-13T08:02:37.579541Z",
     "start_time": "2024-05-13T08:02:37.569133Z"
    }
   },
   "outputs": [
    {
     "data": {
      "text/plain": [
       "(11, 11.5, 'ABC', 'xyz', (1, 2))"
      ]
     },
     "execution_count": 31,
     "metadata": {},
     "output_type": "execute_result"
    }
   ],
   "source": [
    "#Finding the Length of a Python Tuple\n",
    "\n",
    "len(t1)\n"
   ]
  },
  {
   "cell_type": "code",
   "execution_count": 32,
   "metadata": {
    "ExecuteTime": {
     "end_time": "2024-05-13T08:03:58.487346Z",
     "start_time": "2024-05-13T08:03:58.475379Z"
    }
   },
   "outputs": [
    {
     "data": {
      "text/plain": [
       "[11, 11.5, 'ABC', 'xyz', (1, 2)]"
      ]
     },
     "execution_count": 32,
     "metadata": {},
     "output_type": "execute_result"
    }
   ],
   "source": [
    "#Converting a tuple to a List\n",
    "t1_new = list(t1)\n",
    "t1_new\n"
   ]
  },
  {
   "cell_type": "code",
   "execution_count": 33,
   "metadata": {
    "ExecuteTime": {
     "end_time": "2024-05-13T08:04:50.530399Z",
     "start_time": "2024-05-13T08:04:50.508820Z"
    }
   },
   "outputs": [
    {
     "name": "stdout",
     "output_type": "stream",
     "text": [
      "11\n",
      "11.5\n",
      "ABC\n",
      "xyz\n",
      "(1, 2)\n"
     ]
    }
   ],
   "source": [
    "#Tuples in a Loop\n",
    "\n",
    "for i in t1:\n",
    "    print(i)\n"
   ]
  },
  {
   "cell_type": "code",
   "execution_count": 36,
   "metadata": {
    "ExecuteTime": {
     "end_time": "2024-05-13T08:14:56.252723Z",
     "start_time": "2024-05-13T08:14:56.233254Z"
    }
   },
   "outputs": [
    {
     "name": "stdout",
     "output_type": "stream",
     "text": [
      "(('geek',),)\n",
      "((('geek',),),)\n",
      "(((('geek',),),),)\n",
      "((((('geek',),),),),)\n",
      "(((((('geek',),),),),),)\n"
     ]
    }
   ],
   "source": [
    "tup = ('geek',)\n",
    "type(tup)\n",
    "\n",
    "for i in range(5):\n",
    "    tup = (tup,)\n",
    "    print(tup)"
   ]
  },
  {
   "cell_type": "code",
   "execution_count": 38,
   "metadata": {
    "ExecuteTime": {
     "end_time": "2024-05-13T08:23:41.283241Z",
     "start_time": "2024-05-13T08:23:41.269102Z"
    }
   },
   "outputs": [
    {
     "data": {
      "text/plain": [
       "7"
      ]
     },
     "execution_count": 38,
     "metadata": {},
     "output_type": "execute_result"
    }
   ],
   "source": [
    "#\n",
    "test_tup = (10, 4, 5, 6, 7)\n",
    "front, *_, rear = test_tup\n",
    "rear"
   ]
  },
  {
   "cell_type": "code",
   "execution_count": 48,
   "metadata": {
    "ExecuteTime": {
     "end_time": "2024-05-13T08:43:37.292110Z",
     "start_time": "2024-05-13T08:43:37.273634Z"
    }
   },
   "outputs": [
    {
     "name": "stdout",
     "output_type": "stream",
     "text": [
      "1\n"
     ]
    }
   ],
   "source": [
    "#Python – Element Index in Range Tuples\n",
    "\n",
    "test_list = [(0, 10), (11, 20), (21, 30), (31, 40), (41, 50)]\n",
    "k = 11\n",
    "res = 0\n",
    "for i,j in enumerate(test_list):\n",
    "    #print(i,j)\n",
    "    #print(j[-1])\n",
    "    if k >=j[0] and k<=j[-1]:\n",
    "        res =i\n",
    "        print(res)    \n"
   ]
  },
  {
   "cell_type": "code",
   "execution_count": 50,
   "metadata": {
    "ExecuteTime": {
     "end_time": "2024-05-13T08:47:07.800085Z",
     "start_time": "2024-05-13T08:47:07.776156Z"
    }
   },
   "outputs": [
    {
     "name": "stdout",
     "output_type": "stream",
     "text": [
      "11\n",
      "11.5 ABC xyz\n",
      "(1, 2)\n"
     ]
    }
   ],
   "source": [
    "#Unpacking a Tuple in Python\n",
    "t1 \n",
    "x,*y,z = t1\n",
    "print(x)\n",
    "print(*y)\n",
    "print(z)"
   ]
  },
  {
   "cell_type": "code",
   "execution_count": 51,
   "metadata": {
    "ExecuteTime": {
     "end_time": "2024-05-13T08:57:00.089070Z",
     "start_time": "2024-05-13T08:57:00.071118Z"
    }
   },
   "outputs": [
    {
     "name": "stdout",
     "output_type": "stream",
     "text": [
      "The original list is : [(4, (5, 'Gfg')), (7, (8, 6))]\n",
      "The unpacked nested tuple list is : [[4, 5, 'Gfg'], [7, 8, 6]]\n"
     ]
    }
   ],
   "source": [
    "#unpack nested tuple\n",
    "# initialize list\n",
    "test_list = [(4, (5, 'Gfg')), (7, (8, 6))]\n",
    " \n",
    "# printing original list\n",
    "print(\"The original list is : \" + str(test_list))\n",
    " \n",
    "# Unpacking nested tuples using nested loops\n",
    "res = []\n",
    "for z, x in test_list:\n",
    "    temp = [z]\n",
    "    for item in x:\n",
    "        temp.append(item)\n",
    "    res.append(temp)\n",
    " \n",
    "# printing result\n",
    "print(\"The unpacked nested tuple list is : \" + str(res))"
   ]
  },
  {
   "cell_type": "code",
   "execution_count": 60,
   "metadata": {
    "ExecuteTime": {
     "end_time": "2024-05-13T09:00:09.008238Z",
     "start_time": "2024-05-13T09:00:08.985000Z"
    }
   },
   "outputs": [
    {
     "name": "stdout",
     "output_type": "stream",
     "text": [
      "The original list : [(2, 4), (5, 9), (13, 17), (24, 27)]\n",
      "The original string : geeksforgeeks is best for geeks and programming\n",
      "geeksforgeeks is best fo\n",
      "\n",
      "24\n",
      "\n",
      "geeksforgeeks\n",
      "\n",
      "13\n",
      "\n",
      "geeks\n",
      "\n",
      "5\n",
      "\n",
      "ge\n",
      "\n",
      "2\n",
      "\n"
     ]
    }
   ],
   "source": [
    "#slice string from tuple ranges\n",
    "# initialize list and string\n",
    "test_list = [(2, 4), (5, 9), (13, 17), (24, 27)]\n",
    " \n",
    "test_str = \"geeksforgeeks is best for geeks and programming\"\n",
    " \n",
    "# printing original list and string\n",
    "print(\"The original list : \" + str(test_list))\n",
    "print(\"The original string : \" + str(test_str))\n",
    " \n",
    "# Slice String from Tuple ranges\n",
    "# using loop + list slicing\n",
    "for front, rear in reversed(test_list):\n",
    "    print(test_str[: front])\n",
    "    print()\n",
    "    print(front)\n",
    "    print()\n",
    "    test_str[rear + 1:]\n",
    "    #print(rear)\n",
    "    test_str = test_str[: front] + test_str[rear + 1:]\n",
    " \n",
    "# printing result\n",
    "#print(\"The String after slicing is : \" + str(test_str))"
   ]
  },
  {
   "cell_type": "code",
   "execution_count": 63,
   "metadata": {
    "ExecuteTime": {
     "end_time": "2024-05-13T09:03:30.079723Z",
     "start_time": "2024-05-13T09:03:30.059993Z"
    }
   },
   "outputs": [
    {
     "name": "stdout",
     "output_type": "stream",
     "text": [
      "(0, 1, 2, 3)\n",
      "()\n"
     ]
    }
   ],
   "source": [
    "# clear tuple\n",
    "print(tuple1)\n",
    "temp = list(t1)\n",
    "temp.clear()\n",
    "t1 = tuple(temp)\n",
    "print(t1 )"
   ]
  },
  {
   "cell_type": "code",
   "execution_count": 106,
   "metadata": {
    "ExecuteTime": {
     "end_time": "2024-05-14T10:35:15.962824Z",
     "start_time": "2024-05-14T10:35:15.921593Z"
    }
   },
   "outputs": [
    {
     "name": "stdout",
     "output_type": "stream",
     "text": [
      "(2, 4, 0)\n"
     ]
    }
   ],
   "source": [
    "# AND operation in tuple---------- Elementwise AND in tuples\n",
    "# initialize tuples \n",
    "test_tup1 = (10, 4, 6, 9) \n",
    "test_tup2 = (5, 2, 3, 3) \n",
    "\n",
    "# and_tup =()\n",
    "# for i in range(len(test_tup1)):\n",
    "#     and_tup = and_tup + ((test_tup1[i] and test_tup2[i]),)\n",
    "# print(and_tup)\n",
    "    \n",
    "    #???????????????????????????????????????????????????????????\n",
    "    \n",
    "\n",
    "\n",
    "def bitwise_and_tuples(tup1, tup2):\n",
    "    result = []\n",
    "    for i in range(len(tup1)):\n",
    "        result.append(tup1[i] & tup2[i])\n",
    "    return tuple(result)\n",
    "test_tup1 = (10, 4, 5)\n",
    "test_tup2 = (2, 5, 18)\n",
    "res = bitwise_and_tuples(test_tup1, test_tup2)\n",
    "print(res)\n"
   ]
  },
  {
   "cell_type": "code",
   "execution_count": 69,
   "metadata": {
    "ExecuteTime": {
     "end_time": "2024-05-13T09:13:04.424767Z",
     "start_time": "2024-05-13T09:13:04.413386Z"
    }
   },
   "outputs": [
    {
     "name": "stdout",
     "output_type": "stream",
     "text": [
      "76\n",
      "The summation of tuple elements are : 76\n"
     ]
    }
   ],
   "source": [
    "#Sum of tuples in Python using for Loop\n",
    "\n",
    "tup = (1,2,3,4,0,11,22,33)\n",
    "summ = 0\n",
    "for i in tup:\n",
    "    summ +=i\n",
    "print(summ)\n",
    "print(\"The summation of tuple elements are : \" + str(summ))\n"
   ]
  },
  {
   "cell_type": "code",
   "execution_count": 129,
   "metadata": {
    "ExecuteTime": {
     "end_time": "2024-05-14T10:59:42.009671Z",
     "start_time": "2024-05-14T10:59:41.984997Z"
    }
   },
   "outputs": [
    {
     "name": "stdout",
     "output_type": "stream",
     "text": [
      "1\n",
      "overlapping\n"
     ]
    }
   ],
   "source": [
    "#  Define a function() that takes two lists\n",
    "def overlapping(list1, list2):\n",
    "\n",
    "    c = 0\n",
    "    d = 0\n",
    "    for i in list1:\n",
    "        c += 1\n",
    "    for i in list2:\n",
    "        d += 1\n",
    "    for i in range(0, c):\n",
    "        for j in range(0, d):\n",
    "            if(list1[i] == list2[j]):\n",
    "                return 1\n",
    "    return 0\n",
    "\n",
    "\n",
    "list1 = [8, 2, 3,4]\n",
    "list2 = [1, 7, 9,8]\n",
    "print(overlapping(list1, list2))\n",
    "if(overlapping(list1, list2)):\n",
    "    print(\"overlapping\")\n",
    "else:\n",
    "    print(\"not overlapping\")"
   ]
  },
  {
   "cell_type": "code",
   "execution_count": 80,
   "metadata": {
    "ExecuteTime": {
     "end_time": "2024-05-13T09:27:48.556429Z",
     "start_time": "2024-05-13T09:27:48.536954Z"
    }
   },
   "outputs": [
    {
     "name": "stdout",
     "output_type": "stream",
     "text": [
      "True\n"
     ]
    }
   ],
   "source": [
    "# compare two tuple\n",
    "t1 = (1,2,3)\n",
    "t2 = (1,7,0)\n",
    "\n",
    "res = False\n",
    "if t2>t1:\n",
    "    res = True\n",
    "\n",
    "print(res)\n",
    "    "
   ]
  },
  {
   "cell_type": "code",
   "execution_count": 86,
   "metadata": {
    "ExecuteTime": {
     "end_time": "2024-05-13T09:32:40.611658Z",
     "start_time": "2024-05-13T09:32:40.592701Z"
    }
   },
   "outputs": [
    {
     "name": "stdout",
     "output_type": "stream",
     "text": [
      "mansi\n",
      "12\n",
      "\n",
      "sam\n",
      "11\n",
      "\n",
      "nik\n",
      "13\n",
      "\n"
     ]
    }
   ],
   "source": [
    "#iterate-through-tuple-of-tuples-in-python\n",
    "\n",
    "name = (('mansi',12),('sam',11),('nik',13))\n",
    "for i in name:\n",
    "    #print(i)\n",
    "    for j in i:\n",
    "        print(j)\n",
    "    print()"
   ]
  },
  {
   "cell_type": "code",
   "execution_count": null,
   "metadata": {},
   "outputs": [],
   "source": [
    "#Join Tuples if similar initial element\n",
    "Input  : test_list = [(5, 6), (5, 7), (5, 8), (6, 10), (7, 13)] \n",
    "Output : [(5, 6, 7, 8), (6, 10), (7, 13)] \n"
   ]
  },
  {
   "cell_type": "code",
   "execution_count": 95,
   "metadata": {
    "ExecuteTime": {
     "end_time": "2024-05-13T09:48:19.724023Z",
     "start_time": "2024-05-13T09:48:19.711052Z"
    }
   },
   "outputs": [
    {
     "name": "stdout",
     "output_type": "stream",
     "text": [
      "[(5, 0), (4, 1), (5, 2), (6, 3), (7, 4), (3, 5), (2, 6)]\n"
     ]
    }
   ],
   "source": [
    "#Create list of tuples using for loop\n",
    "l1 = [5,4,5,6,7,3,2]\n",
    "res = []\n",
    "for i in range(len(l1)):\n",
    "    res.append((l1[i],i))\n",
    "print(res)\n",
    "    "
   ]
  },
  {
   "cell_type": "code",
   "execution_count": 96,
   "metadata": {
    "ExecuteTime": {
     "end_time": "2024-05-13T09:51:38.493847Z",
     "start_time": "2024-05-13T09:51:38.479885Z"
    }
   },
   "outputs": [
    {
     "data": {
      "text/plain": [
       "(1, 2, 3)"
      ]
     },
     "execution_count": 96,
     "metadata": {},
     "output_type": "execute_result"
    }
   ],
   "source": [
    "t1 "
   ]
  },
  {
   "cell_type": "code",
   "execution_count": 97,
   "metadata": {
    "ExecuteTime": {
     "end_time": "2024-05-13T09:51:44.533971Z",
     "start_time": "2024-05-13T09:51:44.521013Z"
    }
   },
   "outputs": [
    {
     "data": {
      "text/plain": [
       "1"
      ]
     },
     "execution_count": 97,
     "metadata": {},
     "output_type": "execute_result"
    }
   ],
   "source": [
    "min(t1)"
   ]
  },
  {
   "cell_type": "code",
   "execution_count": 98,
   "metadata": {
    "ExecuteTime": {
     "end_time": "2024-05-13T09:51:49.391585Z",
     "start_time": "2024-05-13T09:51:49.383641Z"
    }
   },
   "outputs": [
    {
     "data": {
      "text/plain": [
       "3"
      ]
     },
     "execution_count": 98,
     "metadata": {},
     "output_type": "execute_result"
    }
   ],
   "source": [
    "max(t1)"
   ]
  },
  {
   "cell_type": "code",
   "execution_count": 100,
   "metadata": {
    "ExecuteTime": {
     "end_time": "2024-05-13T09:53:12.200373Z",
     "start_time": "2024-05-13T09:53:12.186411Z"
    }
   },
   "outputs": [
    {
     "data": {
      "text/plain": [
       "3"
      ]
     },
     "execution_count": 100,
     "metadata": {},
     "output_type": "execute_result"
    }
   ],
   "source": [
    "Tuple = (0, 1, 2, 3, 2, 3, 1, 3, 2) \n",
    "Tuple.index(3)"
   ]
  },
  {
   "cell_type": "code",
   "execution_count": 102,
   "metadata": {
    "ExecuteTime": {
     "end_time": "2024-05-13T09:54:10.943766Z",
     "start_time": "2024-05-13T09:54:10.934269Z"
    }
   },
   "outputs": [
    {
     "name": "stdout",
     "output_type": "stream",
     "text": [
      "First occurrence of 3 after 4th index is: 7\n"
     ]
    }
   ],
   "source": [
    "# getting the index of 3 after 6th \n",
    "# index \n",
    "res = Tuple.index(3, 6) \n",
    "print('First occurrence of 3 after 4th index is:', res)"
   ]
  },
  {
   "cell_type": "code",
   "execution_count": null,
   "metadata": {},
   "outputs": [],
   "source": []
  }
 ],
 "metadata": {
  "kernelspec": {
   "display_name": "Python 3",
   "language": "python",
   "name": "python3"
  },
  "language_info": {
   "codemirror_mode": {
    "name": "ipython",
    "version": 3
   },
   "file_extension": ".py",
   "mimetype": "text/x-python",
   "name": "python",
   "nbconvert_exporter": "python",
   "pygments_lexer": "ipython3",
   "version": "3.7.6"
  }
 },
 "nbformat": 4,
 "nbformat_minor": 4
}

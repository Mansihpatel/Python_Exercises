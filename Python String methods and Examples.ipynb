{
 "cells": [
  {
   "cell_type": "markdown",
   "metadata": {},
   "source": [
    "# String"
   ]
  },
  {
   "cell_type": "code",
   "execution_count": 2,
   "metadata": {
    "ExecuteTime": {
     "end_time": "2024-05-12T17:31:50.991141Z",
     "start_time": "2024-05-12T17:31:50.972193Z"
    }
   },
   "outputs": [
    {
     "data": {
      "text/plain": [
       "['__add__',\n",
       " '__class__',\n",
       " '__contains__',\n",
       " '__delattr__',\n",
       " '__dir__',\n",
       " '__doc__',\n",
       " '__eq__',\n",
       " '__format__',\n",
       " '__ge__',\n",
       " '__getattribute__',\n",
       " '__getitem__',\n",
       " '__getnewargs__',\n",
       " '__gt__',\n",
       " '__hash__',\n",
       " '__init__',\n",
       " '__init_subclass__',\n",
       " '__iter__',\n",
       " '__le__',\n",
       " '__len__',\n",
       " '__lt__',\n",
       " '__mod__',\n",
       " '__mul__',\n",
       " '__ne__',\n",
       " '__new__',\n",
       " '__reduce__',\n",
       " '__reduce_ex__',\n",
       " '__repr__',\n",
       " '__rmod__',\n",
       " '__rmul__',\n",
       " '__setattr__',\n",
       " '__sizeof__',\n",
       " '__str__',\n",
       " '__subclasshook__',\n",
       " 'capitalize',\n",
       " 'casefold',\n",
       " 'center',\n",
       " 'count',\n",
       " 'encode',\n",
       " 'endswith',\n",
       " 'expandtabs',\n",
       " 'find',\n",
       " 'format',\n",
       " 'format_map',\n",
       " 'index',\n",
       " 'isalnum',\n",
       " 'isalpha',\n",
       " 'isascii',\n",
       " 'isdecimal',\n",
       " 'isdigit',\n",
       " 'isidentifier',\n",
       " 'islower',\n",
       " 'isnumeric',\n",
       " 'isprintable',\n",
       " 'isspace',\n",
       " 'istitle',\n",
       " 'isupper',\n",
       " 'join',\n",
       " 'ljust',\n",
       " 'lower',\n",
       " 'lstrip',\n",
       " 'maketrans',\n",
       " 'partition',\n",
       " 'replace',\n",
       " 'rfind',\n",
       " 'rindex',\n",
       " 'rjust',\n",
       " 'rpartition',\n",
       " 'rsplit',\n",
       " 'rstrip',\n",
       " 'split',\n",
       " 'splitlines',\n",
       " 'startswith',\n",
       " 'strip',\n",
       " 'swapcase',\n",
       " 'title',\n",
       " 'translate',\n",
       " 'upper',\n",
       " 'zfill']"
      ]
     },
     "execution_count": 2,
     "metadata": {},
     "output_type": "execute_result"
    }
   ],
   "source": [
    "dir(str)"
   ]
  },
  {
   "cell_type": "code",
   "execution_count": 3,
   "metadata": {
    "ExecuteTime": {
     "end_time": "2024-05-12T17:40:12.214612Z",
     "start_time": "2024-05-12T17:40:12.207627Z"
    }
   },
   "outputs": [
    {
     "name": "stdout",
     "output_type": "stream",
     "text": [
      "Hello Python\n"
     ]
    }
   ],
   "source": [
    "#String Creation\n",
    "str1 = 'Hello Python'\n",
    "print(str1)"
   ]
  },
  {
   "cell_type": "code",
   "execution_count": 5,
   "metadata": {
    "ExecuteTime": {
     "end_time": "2024-05-12T17:42:46.560468Z",
     "start_time": "2024-05-12T17:42:46.554483Z"
    }
   },
   "outputs": [
    {
     "data": {
      "text/plain": [
       "'Hello world'"
      ]
     },
     "execution_count": 5,
     "metadata": {},
     "output_type": "execute_result"
    }
   ],
   "source": [
    "#capitalize\n",
    "str1 = 'hellO WoRld'\n",
    "str1.capitalize()"
   ]
  },
  {
   "cell_type": "code",
   "execution_count": 6,
   "metadata": {
    "ExecuteTime": {
     "end_time": "2024-05-12T17:43:15.404711Z",
     "start_time": "2024-05-12T17:43:15.386249Z"
    }
   },
   "outputs": [
    {
     "data": {
      "text/plain": [
       "'hello world'"
      ]
     },
     "execution_count": 6,
     "metadata": {},
     "output_type": "execute_result"
    }
   ],
   "source": [
    "#Casefold\n",
    "str1 = 'hellO WoRld'\n",
    "str1.casefold()"
   ]
  },
  {
   "cell_type": "code",
   "execution_count": 8,
   "metadata": {
    "ExecuteTime": {
     "end_time": "2024-05-12T17:43:45.820935Z",
     "start_time": "2024-05-12T17:43:45.810963Z"
    }
   },
   "outputs": [
    {
     "data": {
      "text/plain": [
       "'                   hellO WoRld                    '"
      ]
     },
     "execution_count": 8,
     "metadata": {},
     "output_type": "execute_result"
    }
   ],
   "source": [
    "#center\n",
    "str1 = 'hellO WoRld'\n",
    "str1.center(50)"
   ]
  },
  {
   "cell_type": "code",
   "execution_count": 10,
   "metadata": {
    "ExecuteTime": {
     "end_time": "2024-05-12T17:45:03.053696Z",
     "start_time": "2024-05-12T17:45:03.036550Z"
    }
   },
   "outputs": [
    {
     "data": {
      "text/plain": [
       "2"
      ]
     },
     "execution_count": 10,
     "metadata": {},
     "output_type": "execute_result"
    }
   ],
   "source": [
    "#count\n",
    "str1 = 'Hello World hello Hello world s'\n",
    "str1.count('Hell')"
   ]
  },
  {
   "cell_type": "code",
   "execution_count": 12,
   "metadata": {
    "ExecuteTime": {
     "end_time": "2024-05-12T17:46:56.576740Z",
     "start_time": "2024-05-12T17:46:56.563775Z"
    }
   },
   "outputs": [
    {
     "data": {
      "text/plain": [
       "b'Hello World hello Hello world s'"
      ]
     },
     "execution_count": 12,
     "metadata": {},
     "output_type": "execute_result"
    }
   ],
   "source": [
    "#Encode\n",
    "str1 = 'Hello World hello Hello world s'\n",
    "str1.encode()"
   ]
  },
  {
   "cell_type": "code",
   "execution_count": 18,
   "metadata": {
    "ExecuteTime": {
     "end_time": "2024-05-12T17:48:03.817209Z",
     "start_time": "2024-05-12T17:48:03.807234Z"
    }
   },
   "outputs": [
    {
     "data": {
      "text/plain": [
       "True"
      ]
     },
     "execution_count": 18,
     "metadata": {},
     "output_type": "execute_result"
    }
   ],
   "source": [
    "#endswith\n",
    "str1 = 'Hello World hello Hello world s'\n",
    "str1.endswith('orld s')"
   ]
  },
  {
   "cell_type": "code",
   "execution_count": 20,
   "metadata": {
    "ExecuteTime": {
     "end_time": "2024-05-12T17:49:03.183528Z",
     "start_time": "2024-05-12T17:49:03.167565Z"
    }
   },
   "outputs": [
    {
     "data": {
      "text/plain": [
       "'hell0     WoRld'"
      ]
     },
     "execution_count": 20,
     "metadata": {},
     "output_type": "execute_result"
    }
   ],
   "source": [
    "#Expandtabs\n",
    "str1 = 'hell0\\tWoRld'\n",
    "str1.expandtabs(10)"
   ]
  },
  {
   "cell_type": "code",
   "execution_count": 24,
   "metadata": {
    "ExecuteTime": {
     "end_time": "2024-05-12T17:50:39.326298Z",
     "start_time": "2024-05-12T17:50:39.314332Z"
    }
   },
   "outputs": [
    {
     "name": "stdout",
     "output_type": "stream",
     "text": [
      "6\n",
      "-1\n"
     ]
    }
   ],
   "source": [
    "#find\n",
    "str1 = 'hell0 WoRld hello'\n",
    "print(str1.find('WoRld'))\n",
    "print(str1.find('M'))"
   ]
  },
  {
   "cell_type": "code",
   "execution_count": 25,
   "metadata": {
    "ExecuteTime": {
     "end_time": "2024-05-12T17:51:06.397483Z",
     "start_time": "2024-05-12T17:51:06.392498Z"
    }
   },
   "outputs": [
    {
     "data": {
      "text/plain": [
       "'My name is Mansi,I am 38'"
      ]
     },
     "execution_count": 25,
     "metadata": {},
     "output_type": "execute_result"
    }
   ],
   "source": [
    "#format\n",
    "str1 = 'My name is {},I am {}'.format('Mansi',38)\n",
    "str1 "
   ]
  },
  {
   "cell_type": "code",
   "execution_count": 26,
   "metadata": {
    "ExecuteTime": {
     "end_time": "2024-05-12T17:53:45.912688Z",
     "start_time": "2024-05-12T17:53:45.903731Z"
    }
   },
   "outputs": [
    {
     "name": "stdout",
     "output_type": "stream",
     "text": [
      "Mansi's last name is Patel\n"
     ]
    }
   ],
   "source": [
    "#format_map\n",
    "point = {'x':'Mansi','y':'Patel'}\n",
    "print(\"{x}'s last name is {y}\".format_map(point))"
   ]
  },
  {
   "cell_type": "code",
   "execution_count": 27,
   "metadata": {
    "ExecuteTime": {
     "end_time": "2024-05-12T17:54:31.909686Z",
     "start_time": "2024-05-12T17:54:31.900710Z"
    }
   },
   "outputs": [
    {
     "data": {
      "text/plain": [
       "3"
      ]
     },
     "execution_count": 27,
     "metadata": {},
     "output_type": "execute_result"
    }
   ],
   "source": [
    "#Index\n",
    "str1 = 'This is string'\n",
    "str1.index('s')"
   ]
  },
  {
   "cell_type": "code",
   "execution_count": 33,
   "metadata": {
    "ExecuteTime": {
     "end_time": "2024-05-12T17:57:39.592562Z",
     "start_time": "2024-05-12T17:57:39.569627Z"
    }
   },
   "outputs": [
    {
     "name": "stdout",
     "output_type": "stream",
     "text": [
      "True\n",
      "True\n",
      "False\n",
      "True\n"
     ]
    }
   ],
   "source": [
    "#isalnum\n",
    "str1 = 'Thisisstring'\n",
    "print(str1.isalnum())\n",
    "# Check if all characters in the string are alphanumeric\n",
    "S = 'abc123'\n",
    "x = S.isalnum()\n",
    "print(x)\n",
    "\n",
    "S = 'abc 123'\n",
    "x = S.isalnum()\n",
    "print(x)\n",
    "\n",
    "S = '123'\n",
    "x = S.isalnum()\n",
    "print(x)"
   ]
  },
  {
   "cell_type": "code",
   "execution_count": 34,
   "metadata": {
    "ExecuteTime": {
     "end_time": "2024-05-12T17:58:15.863932Z",
     "start_time": "2024-05-12T17:58:15.845983Z"
    }
   },
   "outputs": [
    {
     "name": "stdout",
     "output_type": "stream",
     "text": [
      "True\n",
      "False\n",
      "True\n"
     ]
    }
   ],
   "source": [
    "#Isalpha \n",
    "str1= 'Thisisstring'\n",
    "print(str1.isalpha())\n",
    "\n",
    "txt = \"Comp any\"\n",
    "x = txt.isalnum()\n",
    "print(x)\n",
    "\n",
    "txt = \"Company\"\n",
    "x = txt.isalpha()\n",
    "print(x)"
   ]
  },
  {
   "cell_type": "code",
   "execution_count": 38,
   "metadata": {
    "ExecuteTime": {
     "end_time": "2024-05-12T18:00:08.335425Z",
     "start_time": "2024-05-12T18:00:08.327443Z"
    }
   },
   "outputs": [
    {
     "name": "stdout",
     "output_type": "stream",
     "text": [
      "True\n",
      "False\n"
     ]
    }
   ],
   "source": [
    "#Isascii\n",
    "str1 = '#'\n",
    "print(str1.isascii())\n",
    "\n",
    "mystr = 'Å'\n",
    "print(mystr.isascii())"
   ]
  },
  {
   "cell_type": "code",
   "execution_count": 48,
   "metadata": {
    "ExecuteTime": {
     "end_time": "2024-05-12T18:03:52.625761Z",
     "start_time": "2024-05-12T18:03:52.605817Z"
    }
   },
   "outputs": [
    {
     "name": "stdout",
     "output_type": "stream",
     "text": [
      "False\n",
      "False\n"
     ]
    }
   ],
   "source": [
    "#Isdecimal\n",
    "txt = '123.10'\n",
    "print(txt.isdecimal())\n",
    "\n",
    "txt1 = '1'\n",
    "print(txt.isdecimal())"
   ]
  },
  {
   "cell_type": "code",
   "execution_count": 45,
   "metadata": {
    "ExecuteTime": {
     "end_time": "2024-05-12T18:03:27.827972Z",
     "start_time": "2024-05-12T18:03:27.813999Z"
    }
   },
   "outputs": [
    {
     "name": "stdout",
     "output_type": "stream",
     "text": [
      "False\n"
     ]
    }
   ],
   "source": [
    "#Isdigit\n",
    "\n",
    "txt = 'abc12'\n",
    "print(txt.isdigit())"
   ]
  },
  {
   "cell_type": "code",
   "execution_count": 51,
   "metadata": {
    "ExecuteTime": {
     "end_time": "2024-05-12T18:06:47.233078Z",
     "start_time": "2024-05-12T18:06:47.225101Z"
    }
   },
   "outputs": [
    {
     "name": "stdout",
     "output_type": "stream",
     "text": [
      "True\n",
      "True\n",
      "True\n",
      "False\n",
      "False\n"
     ]
    }
   ],
   "source": [
    "#isidentifier\n",
    "x = 'Abc'\n",
    "print(x.isidentifier())\n",
    "\n",
    "x = '_Abc'\n",
    "print(x.isidentifier())\n",
    "\n",
    "x = '_Abc_'\n",
    "print(x.isidentifier())\n",
    "\n",
    "x = '0Abc'\n",
    "print(x.isidentifier())\n",
    "\n",
    "x = '#Abc'\n",
    "print(x.isidentifier())\n"
   ]
  },
  {
   "cell_type": "code",
   "execution_count": 52,
   "metadata": {
    "ExecuteTime": {
     "end_time": "2024-05-12T18:07:12.993649Z",
     "start_time": "2024-05-12T18:07:12.988660Z"
    }
   },
   "outputs": [
    {
     "name": "stdout",
     "output_type": "stream",
     "text": [
      "True\n"
     ]
    }
   ],
   "source": [
    "#islower\n",
    "str1 = 'this is string'\n",
    "print(str1.islower())"
   ]
  },
  {
   "cell_type": "code",
   "execution_count": 54,
   "metadata": {
    "ExecuteTime": {
     "end_time": "2024-05-12T18:08:59.986074Z",
     "start_time": "2024-05-12T18:08:59.974106Z"
    }
   },
   "outputs": [
    {
     "name": "stdout",
     "output_type": "stream",
     "text": [
      "False\n",
      "True\n"
     ]
    }
   ],
   "source": [
    "#isnumeric\n",
    "str1 = 'This is a string'\n",
    "print(str1.isnumeric())\n",
    "str11 = '3455' \n",
    "print(str11.isnumeric())"
   ]
  },
  {
   "cell_type": "code",
   "execution_count": 56,
   "metadata": {
    "ExecuteTime": {
     "end_time": "2024-05-12T18:09:27.088879Z",
     "start_time": "2024-05-12T18:09:27.066940Z"
    }
   },
   "outputs": [
    {
     "name": "stdout",
     "output_type": "stream",
     "text": [
      "True\n",
      "False\n"
     ]
    }
   ],
   "source": [
    "#isprintable\n",
    "txt = \"Hello! Are you #1?\"\n",
    "x = txt.isprintable()\n",
    "print(x)\n",
    "\n",
    "txt1 = \"Hello! Are you #1\\t?\"\n",
    "\n",
    "y = txt1.isprintable()\n",
    "\n",
    "print(y)"
   ]
  },
  {
   "cell_type": "code",
   "execution_count": 65,
   "metadata": {
    "ExecuteTime": {
     "end_time": "2024-05-12T18:11:33.423058Z",
     "start_time": "2024-05-12T18:11:33.415077Z"
    }
   },
   "outputs": [
    {
     "name": "stdout",
     "output_type": "stream",
     "text": [
      "True\n",
      "False\n"
     ]
    }
   ],
   "source": [
    "#isspace\n",
    "str1 = '\\r'\n",
    "print(str1.isspace())\n",
    "str1 = 'm'\n",
    "print(str1.isspace())"
   ]
  },
  {
   "cell_type": "code",
   "execution_count": 70,
   "metadata": {
    "ExecuteTime": {
     "end_time": "2024-05-12T18:14:49.539084Z",
     "start_time": "2024-05-12T18:14:49.532103Z"
    }
   },
   "outputs": [
    {
     "name": "stdout",
     "output_type": "stream",
     "text": [
      "False\n",
      "True\n"
     ]
    }
   ],
   "source": [
    "#istitle\n",
    "str1 = 'This is Python'\n",
    "print(str1.istitle())\n",
    "\n",
    "str1 = 'This Is Python'\n",
    "print(str1.istitle())"
   ]
  },
  {
   "cell_type": "code",
   "execution_count": 71,
   "metadata": {
    "ExecuteTime": {
     "end_time": "2024-05-12T18:16:04.084810Z",
     "start_time": "2024-05-12T18:16:04.078827Z"
    }
   },
   "outputs": [
    {
     "name": "stdout",
     "output_type": "stream",
     "text": [
      "True\n"
     ]
    }
   ],
   "source": [
    "#isupper\n",
    "str1 = 'THIS'\n",
    "print(str1.isupper())"
   ]
  },
  {
   "cell_type": "code",
   "execution_count": 74,
   "metadata": {
    "ExecuteTime": {
     "end_time": "2024-05-12T18:20:07.310336Z",
     "start_time": "2024-05-12T18:20:07.299358Z"
    }
   },
   "outputs": [
    {
     "name": "stdout",
     "output_type": "stream",
     "text": [
      "john_peter_vickey\n"
     ]
    }
   ],
   "source": [
    "#join\n",
    "str1 = ['john' ,'peter','vickey']\n",
    "print('_'.join(str1))"
   ]
  },
  {
   "cell_type": "code",
   "execution_count": 75,
   "metadata": {
    "ExecuteTime": {
     "end_time": "2024-05-12T18:20:23.971694Z",
     "start_time": "2024-05-12T18:20:23.954737Z"
    }
   },
   "outputs": [
    {
     "data": {
      "text/plain": [
       "'python              '"
      ]
     },
     "execution_count": 75,
     "metadata": {},
     "output_type": "execute_result"
    }
   ],
   "source": [
    "#ljust\n",
    "str1 = 'python'\n",
    "str1.ljust(20)"
   ]
  },
  {
   "cell_type": "code",
   "execution_count": 76,
   "metadata": {
    "ExecuteTime": {
     "end_time": "2024-05-12T18:20:44.398307Z",
     "start_time": "2024-05-12T18:20:44.393320Z"
    }
   },
   "outputs": [
    {
     "data": {
      "text/plain": [
       "'              python'"
      ]
     },
     "execution_count": 76,
     "metadata": {},
     "output_type": "execute_result"
    }
   ],
   "source": [
    "#rjust\n",
    "str1 = 'python'\n",
    "str1.rjust(20)"
   ]
  },
  {
   "cell_type": "code",
   "execution_count": 121,
   "metadata": {
    "ExecuteTime": {
     "end_time": "2024-05-12T18:56:22.288820Z",
     "start_time": "2024-05-12T18:56:22.268874Z"
    }
   },
   "outputs": [
    {
     "data": {
      "text/plain": [
       "'python'"
      ]
     },
     "execution_count": 121,
     "metadata": {},
     "output_type": "execute_result"
    }
   ],
   "source": [
    "#lower\n",
    "str1 = 'PytHoN'\n",
    "str1.lower()"
   ]
  },
  {
   "cell_type": "code",
   "execution_count": null,
   "metadata": {},
   "outputs": [],
   "source": [
    "#lstrip"
   ]
  },
  {
   "cell_type": "code",
   "execution_count": null,
   "metadata": {},
   "outputs": [],
   "source": []
  },
  {
   "cell_type": "code",
   "execution_count": 81,
   "metadata": {
    "ExecuteTime": {
     "end_time": "2024-05-12T18:23:41.144710Z",
     "start_time": "2024-05-12T18:23:41.137661Z"
    }
   },
   "outputs": [
    {
     "name": "stdout",
     "output_type": "stream",
     "text": [
      "('I could ', 'eat ', 'bananas all day')\n"
     ]
    }
   ],
   "source": [
    "# partition\n",
    "txt = \"I could eat bananas all day\"\n",
    "x = txt.partition(\"eat \")\n",
    "print(x)"
   ]
  },
  {
   "cell_type": "code",
   "execution_count": 82,
   "metadata": {
    "ExecuteTime": {
     "end_time": "2024-05-12T18:23:55.564801Z",
     "start_time": "2024-05-12T18:23:55.550834Z"
    }
   },
   "outputs": [
    {
     "name": "stdout",
     "output_type": "stream",
     "text": [
      "ThOne One string\n"
     ]
    }
   ],
   "source": [
    "#Replace\n",
    "str1 = 'This is string'\n",
    "print(str1.replace('is','One'))"
   ]
  },
  {
   "cell_type": "code",
   "execution_count": 83,
   "metadata": {
    "ExecuteTime": {
     "end_time": "2024-05-12T18:24:37.079063Z",
     "start_time": "2024-05-12T18:24:37.065102Z"
    }
   },
   "outputs": [
    {
     "data": {
      "text/plain": [
       "5"
      ]
     },
     "execution_count": 83,
     "metadata": {},
     "output_type": "execute_result"
    }
   ],
   "source": [
    "#rfind\n",
    "str1 = 'This is string'\n",
    "str1.rfind('is')"
   ]
  },
  {
   "cell_type": "code",
   "execution_count": 84,
   "metadata": {
    "ExecuteTime": {
     "end_time": "2024-05-12T18:24:56.966301Z",
     "start_time": "2024-05-12T18:24:56.953325Z"
    }
   },
   "outputs": [
    {
     "data": {
      "text/plain": [
       "5"
      ]
     },
     "execution_count": 84,
     "metadata": {},
     "output_type": "execute_result"
    }
   ],
   "source": [
    "#rindex\n",
    "str1 = 'This is string'\n",
    "str1.rindex('is')\n",
    "\n"
   ]
  },
  {
   "cell_type": "code",
   "execution_count": 85,
   "metadata": {
    "ExecuteTime": {
     "end_time": "2024-05-12T18:26:14.303525Z",
     "start_time": "2024-05-12T18:26:14.290034Z"
    }
   },
   "outputs": [
    {
     "name": "stdout",
     "output_type": "stream",
     "text": [
      "****************************************MAnsiPatel\n"
     ]
    }
   ],
   "source": [
    "#rjust\n",
    "text = \"MAnsiPatel\"\n",
    "result = text.rjust(50, '*')\n",
    "print(result)"
   ]
  },
  {
   "cell_type": "code",
   "execution_count": 86,
   "metadata": {
    "ExecuteTime": {
     "end_time": "2024-05-12T18:26:22.704497Z",
     "start_time": "2024-05-12T18:26:22.684547Z"
    }
   },
   "outputs": [
    {
     "name": "stdout",
     "output_type": "stream",
     "text": [
      "MAnsiPatel****************************************\n"
     ]
    }
   ],
   "source": [
    "#ljust\n",
    "text = \"MAnsiPatel\"\n",
    "result = text.ljust(50, '*')\n",
    "print(result)"
   ]
  },
  {
   "cell_type": "code",
   "execution_count": 94,
   "metadata": {
    "ExecuteTime": {
     "end_time": "2024-05-12T18:30:40.211976Z",
     "start_time": "2024-05-12T18:30:40.194026Z"
    }
   },
   "outputs": [
    {
     "name": "stdout",
     "output_type": "stream",
     "text": [
      "('Python is fun ', 'is', ' python')\n",
      "('Python ', 'is', ' fun is python')\n"
     ]
    }
   ],
   "source": [
    "#rpartition\n",
    "string = \"Python is fun is python\"\n",
    "\n",
    "print(string.rpartition('is')) #parates the string from the last occurrence of the separator\n",
    "print(string.partition('is')) #parates the string from the first occurrence of the separator"
   ]
  },
  {
   "cell_type": "code",
   "execution_count": 107,
   "metadata": {
    "ExecuteTime": {
     "end_time": "2024-05-12T18:45:01.873533Z",
     "start_time": "2024-05-12T18:45:01.858055Z"
    }
   },
   "outputs": [
    {
     "name": "stdout",
     "output_type": "stream",
     "text": [
      "['apple, banana, cherry', 'mango']\n"
     ]
    }
   ],
   "source": [
    "#rsplit\n",
    "txt = \"apple, banana, cherry, mango\"\n",
    "# setting the maxsplit parameter to 1, will return a list with 2 elements!\n",
    "y = txt.rsplit(\", \",1)\n",
    "print(y)"
   ]
  },
  {
   "cell_type": "code",
   "execution_count": 111,
   "metadata": {
    "ExecuteTime": {
     "end_time": "2024-05-12T18:48:14.131032Z",
     "start_time": "2024-05-12T18:48:14.121059Z"
    }
   },
   "outputs": [
    {
     "name": "stdout",
     "output_type": "stream",
     "text": [
      "Python Programming\n"
     ]
    }
   ],
   "source": [
    "# 'rstrip',\n",
    "title = 'Python Programming     '\n",
    "# remove trailing whitespace from title\n",
    "result = title.rstrip()\n",
    "print(result)"
   ]
  },
  {
   "cell_type": "code",
   "execution_count": 112,
   "metadata": {
    "ExecuteTime": {
     "end_time": "2024-05-12T18:50:29.472215Z",
     "start_time": "2024-05-12T18:50:29.457256Z"
    }
   },
   "outputs": [
    {
     "data": {
      "text/plain": [
       "['This', 'is', 'python']"
      ]
     },
     "execution_count": 112,
     "metadata": {},
     "output_type": "execute_result"
    }
   ],
   "source": [
    "# 'split'\n",
    "str1 = 'This is python'\n",
    "str1.split(\" \")\n"
   ]
  },
  {
   "cell_type": "code",
   "execution_count": 114,
   "metadata": {
    "ExecuteTime": {
     "end_time": "2024-05-12T18:53:32.203010Z",
     "start_time": "2024-05-12T18:53:32.182541Z"
    }
   },
   "outputs": [
    {
     "name": "stdout",
     "output_type": "stream",
     "text": [
      "['Ilove', 'Python', 'Programming.']\n"
     ]
    }
   ],
   "source": [
    "#splitlines\n",
    "# \\n is a line boundary \n",
    "sentence = 'Ilove\\nPython\\nProgramming.'\n",
    "\n",
    "# returns a list after spliting string at line breaks \n",
    "resulting_list = sentence.splitlines()\n",
    "\n",
    "print(resulting_list)"
   ]
  },
  {
   "cell_type": "code",
   "execution_count": 115,
   "metadata": {
    "ExecuteTime": {
     "end_time": "2024-05-12T18:54:06.566105Z",
     "start_time": "2024-05-12T18:54:06.549151Z"
    }
   },
   "outputs": [
    {
     "name": "stdout",
     "output_type": "stream",
     "text": [
      "False\n"
     ]
    }
   ],
   "source": [
    "#startswith\n",
    "str1 = 'This is string'\n",
    "print(str1.startswith('s'))"
   ]
  },
  {
   "cell_type": "code",
   "execution_count": 116,
   "metadata": {
    "ExecuteTime": {
     "end_time": "2024-05-12T18:54:23.663107Z",
     "start_time": "2024-05-12T18:54:23.654131Z"
    }
   },
   "outputs": [
    {
     "name": "stdout",
     "output_type": "stream",
     "text": [
      "This is string\n"
     ]
    }
   ],
   "source": [
    "#strip\n",
    "str1 = '  This is string  '\n",
    "#this will remove leading and trailing whitespaces\n",
    "print(str1.strip())"
   ]
  },
  {
   "cell_type": "code",
   "execution_count": 117,
   "metadata": {
    "ExecuteTime": {
     "end_time": "2024-05-12T18:54:47.658051Z",
     "start_time": "2024-05-12T18:54:47.642093Z"
    }
   },
   "outputs": [
    {
     "data": {
      "text/plain": [
       "'tHIS IS STRING'"
      ]
     },
     "execution_count": 117,
     "metadata": {},
     "output_type": "execute_result"
    }
   ],
   "source": [
    "#swapcase\n",
    "str1 = 'This is string'\n",
    "str1.swapcase()\n"
   ]
  },
  {
   "cell_type": "code",
   "execution_count": 118,
   "metadata": {
    "ExecuteTime": {
     "end_time": "2024-05-12T18:55:05.820518Z",
     "start_time": "2024-05-12T18:55:05.813534Z"
    }
   },
   "outputs": [
    {
     "data": {
      "text/plain": [
       "'This Is String'"
      ]
     },
     "execution_count": 118,
     "metadata": {},
     "output_type": "execute_result"
    }
   ],
   "source": [
    "#title\n",
    "str1 = 'This is string'\n",
    "str1.title()"
   ]
  },
  {
   "cell_type": "code",
   "execution_count": 119,
   "metadata": {
    "ExecuteTime": {
     "end_time": "2024-05-12T18:55:38.517026Z",
     "start_time": "2024-05-12T18:55:38.505057Z"
    }
   },
   "outputs": [
    {
     "name": "stdout",
     "output_type": "stream",
     "text": [
      "Here, effect is noun\n"
     ]
    }
   ],
   "source": [
    "#translate\n",
    "trantab = {97: 101}\n",
    "str = \"Here, affect is noun\"\n",
    "print(str.translate(trantab))"
   ]
  },
  {
   "cell_type": "code",
   "execution_count": 120,
   "metadata": {
    "ExecuteTime": {
     "end_time": "2024-05-12T18:56:00.043599Z",
     "start_time": "2024-05-12T18:56:00.031631Z"
    }
   },
   "outputs": [
    {
     "data": {
      "text/plain": [
       "'HI'"
      ]
     },
     "execution_count": 120,
     "metadata": {},
     "output_type": "execute_result"
    }
   ],
   "source": [
    "#upper\n",
    "str1 = 'hi'\n",
    "str1.upper()"
   ]
  },
  {
   "cell_type": "code",
   "execution_count": 122,
   "metadata": {
    "ExecuteTime": {
     "end_time": "2024-05-12T18:56:50.201702Z",
     "start_time": "2024-05-12T18:56:50.184761Z"
    }
   },
   "outputs": [
    {
     "name": "stdout",
     "output_type": "stream",
     "text": [
      "0program is fun\n",
      "000000program is fun\n",
      "program is fun\n"
     ]
    }
   ],
   "source": [
    "#zfill\n",
    "text = \"program is fun\"\n",
    "print(text.zfill(15))\n",
    "print(text.zfill(20))\n",
    "print(text.zfill(10))"
   ]
  },
  {
   "cell_type": "code",
   "execution_count": 128,
   "metadata": {
    "ExecuteTime": {
     "end_time": "2024-05-13T07:04:47.050192Z",
     "start_time": "2024-05-13T07:04:47.029066Z"
    }
   },
   "outputs": [
    {
     "name": "stdout",
     "output_type": "stream",
     "text": [
      "Hello Python"
     ]
    }
   ],
   "source": [
    "##Iterate through string\n",
    "mystr = 'Hello Python'\n",
    "for i in mystr:\n",
    "    print(i,end='')"
   ]
  },
  {
   "cell_type": "code",
   "execution_count": 125,
   "metadata": {
    "ExecuteTime": {
     "end_time": "2024-05-13T07:03:01.251336Z",
     "start_time": "2024-05-13T07:03:01.223992Z"
    }
   },
   "outputs": [
    {
     "name": "stdout",
     "output_type": "stream",
     "text": [
      "Hello Python"
     ]
    }
   ],
   "source": [
    "for i in range(len(mystr)):\n",
    "    print(mystr[i],end='')"
   ]
  },
  {
   "cell_type": "code",
   "execution_count": null,
   "metadata": {},
   "outputs": [],
   "source": []
  },
  {
   "cell_type": "code",
   "execution_count": null,
   "metadata": {},
   "outputs": [],
   "source": []
  },
  {
   "cell_type": "code",
   "execution_count": null,
   "metadata": {},
   "outputs": [],
   "source": []
  },
  {
   "cell_type": "code",
   "execution_count": null,
   "metadata": {},
   "outputs": [],
   "source": []
  },
  {
   "cell_type": "code",
   "execution_count": null,
   "metadata": {},
   "outputs": [],
   "source": [
    "#rindex ** #lstrip #translate"
   ]
  }
 ],
 "metadata": {
  "kernelspec": {
   "display_name": "Python 3",
   "language": "python",
   "name": "python3"
  },
  "language_info": {
   "codemirror_mode": {
    "name": "ipython",
    "version": 3
   },
   "file_extension": ".py",
   "mimetype": "text/x-python",
   "name": "python",
   "nbconvert_exporter": "python",
   "pygments_lexer": "ipython3",
   "version": "3.7.6"
  }
 },
 "nbformat": 4,
 "nbformat_minor": 4
}

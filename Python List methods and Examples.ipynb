{
 "cells": [
  {
   "cell_type": "markdown",
   "metadata": {},
   "source": [
    "The list is a sequence data type which is used to store the collection of data.\n",
    "\n",
    "Lists are mutable, and hence, they can be altered even after their creation."
   ]
  },
  {
   "cell_type": "code",
   "execution_count": 1,
   "metadata": {
    "ExecuteTime": {
     "end_time": "2024-05-13T10:06:53.721278Z",
     "start_time": "2024-05-13T10:06:53.682845Z"
    }
   },
   "outputs": [
    {
     "name": "stdout",
     "output_type": "stream",
     "text": [
      "['__add__', '__class__', '__contains__', '__delattr__', '__delitem__', '__dir__', '__doc__', '__eq__', '__format__', '__ge__', '__getattribute__', '__getitem__', '__gt__', '__hash__', '__iadd__', '__imul__', '__init__', '__init_subclass__', '__iter__', '__le__', '__len__', '__lt__', '__mul__', '__ne__', '__new__', '__reduce__', '__reduce_ex__', '__repr__', '__reversed__', '__rmul__', '__setattr__', '__setitem__', '__sizeof__', '__str__', '__subclasshook__', 'append', 'clear', 'copy', 'count', 'extend', 'index', 'insert', 'pop', 'remove', 'reverse', 'sort']\n"
     ]
    }
   ],
   "source": [
    "print(dir(list))"
   ]
  },
  {
   "cell_type": "code",
   "execution_count": 2,
   "metadata": {
    "ExecuteTime": {
     "end_time": "2024-05-13T10:17:38.536542Z",
     "start_time": "2024-05-13T10:17:38.515598Z"
    }
   },
   "outputs": [],
   "source": [
    "l1 = [1,'l1abc',22,'TRC','OQ',77]\n"
   ]
  },
  {
   "cell_type": "code",
   "execution_count": 3,
   "metadata": {
    "ExecuteTime": {
     "end_time": "2024-05-13T10:17:46.512488Z",
     "start_time": "2024-05-13T10:17:46.491521Z"
    }
   },
   "outputs": [],
   "source": [
    "l1.append(10)"
   ]
  },
  {
   "cell_type": "code",
   "execution_count": 4,
   "metadata": {
    "ExecuteTime": {
     "end_time": "2024-05-13T10:17:52.252806Z",
     "start_time": "2024-05-13T10:17:52.212915Z"
    }
   },
   "outputs": [
    {
     "data": {
      "text/plain": [
       "[1, 'abc', 22, 'TRC', 'OQ', 77, 10]"
      ]
     },
     "execution_count": 4,
     "metadata": {},
     "output_type": "execute_result"
    }
   ],
   "source": [
    "l1 "
   ]
  },
  {
   "cell_type": "code",
   "execution_count": 5,
   "metadata": {
    "ExecuteTime": {
     "end_time": "2024-05-13T10:22:36.639626Z",
     "start_time": "2024-05-13T10:22:36.616685Z"
    }
   },
   "outputs": [
    {
     "data": {
      "text/plain": [
       "[1, 'abc', 22, 'TRC', 'OQ', 77, 10]"
      ]
     },
     "execution_count": 5,
     "metadata": {},
     "output_type": "execute_result"
    }
   ],
   "source": [
    "l2 = l1.copy()\n",
    "l2 "
   ]
  },
  {
   "cell_type": "code",
   "execution_count": 7,
   "metadata": {
    "ExecuteTime": {
     "end_time": "2024-05-13T10:22:52.151966Z",
     "start_time": "2024-05-13T10:22:52.132023Z"
    }
   },
   "outputs": [
    {
     "data": {
      "text/plain": [
       "(2510997107464, 2511008736904)"
      ]
     },
     "execution_count": 7,
     "metadata": {},
     "output_type": "execute_result"
    }
   ],
   "source": [
    "id(l1),id(l2)"
   ]
  },
  {
   "cell_type": "code",
   "execution_count": 8,
   "metadata": {
    "ExecuteTime": {
     "end_time": "2024-05-13T10:23:46.479961Z",
     "start_time": "2024-05-13T10:23:46.462007Z"
    }
   },
   "outputs": [
    {
     "data": {
      "text/plain": [
       "(2510997107464, 2510997107464)"
      ]
     },
     "execution_count": 8,
     "metadata": {},
     "output_type": "execute_result"
    }
   ],
   "source": [
    "l3 = l1\n",
    "id(l3),id(l1)"
   ]
  },
  {
   "cell_type": "code",
   "execution_count": 10,
   "metadata": {
    "ExecuteTime": {
     "end_time": "2024-05-13T10:24:34.094647Z",
     "start_time": "2024-05-13T10:24:34.079695Z"
    }
   },
   "outputs": [],
   "source": [
    "l1.append(22)"
   ]
  },
  {
   "cell_type": "code",
   "execution_count": 11,
   "metadata": {
    "ExecuteTime": {
     "end_time": "2024-05-13T10:24:37.928003Z",
     "start_time": "2024-05-13T10:24:37.916539Z"
    }
   },
   "outputs": [
    {
     "data": {
      "text/plain": [
       "2"
      ]
     },
     "execution_count": 11,
     "metadata": {},
     "output_type": "execute_result"
    }
   ],
   "source": [
    "l1.count(22)"
   ]
  },
  {
   "cell_type": "code",
   "execution_count": 13,
   "metadata": {
    "ExecuteTime": {
     "end_time": "2024-05-13T10:25:44.198641Z",
     "start_time": "2024-05-13T10:25:44.176701Z"
    }
   },
   "outputs": [
    {
     "data": {
      "text/plain": [
       "2"
      ]
     },
     "execution_count": 13,
     "metadata": {},
     "output_type": "execute_result"
    }
   ],
   "source": [
    "l1.index(22)"
   ]
  },
  {
   "cell_type": "code",
   "execution_count": 16,
   "metadata": {
    "ExecuteTime": {
     "end_time": "2024-05-13T10:26:57.512765Z",
     "start_time": "2024-05-13T10:26:57.495799Z"
    }
   },
   "outputs": [
    {
     "data": {
      "text/plain": [
       "[12, 1, 'abc', 22, 'TRC', 'OQ', 77, 10, 22, 0]"
      ]
     },
     "execution_count": 16,
     "metadata": {},
     "output_type": "execute_result"
    }
   ],
   "source": [
    "l1.insert(0,12)\n",
    "l1 "
   ]
  },
  {
   "cell_type": "code",
   "execution_count": 17,
   "metadata": {
    "ExecuteTime": {
     "end_time": "2024-05-13T10:27:28.465180Z",
     "start_time": "2024-05-13T10:27:28.457678Z"
    }
   },
   "outputs": [],
   "source": [
    "l1.extend(['MAnsi'])"
   ]
  },
  {
   "cell_type": "code",
   "execution_count": 18,
   "metadata": {
    "ExecuteTime": {
     "end_time": "2024-05-13T10:27:32.891463Z",
     "start_time": "2024-05-13T10:27:32.876504Z"
    }
   },
   "outputs": [
    {
     "data": {
      "text/plain": [
       "[12, 1, 'abc', 22, 'TRC', 'OQ', 77, 10, 22, 0, 'MAnsi']"
      ]
     },
     "execution_count": 18,
     "metadata": {},
     "output_type": "execute_result"
    }
   ],
   "source": [
    "l1 "
   ]
  },
  {
   "cell_type": "code",
   "execution_count": 19,
   "metadata": {
    "ExecuteTime": {
     "end_time": "2024-05-13T10:27:47.622473Z",
     "start_time": "2024-05-13T10:27:47.613497Z"
    }
   },
   "outputs": [],
   "source": [
    "l1.extend('Mansi')"
   ]
  },
  {
   "cell_type": "code",
   "execution_count": 20,
   "metadata": {
    "ExecuteTime": {
     "end_time": "2024-05-13T10:27:50.429974Z",
     "start_time": "2024-05-13T10:27:50.415488Z"
    },
    "scrolled": true
   },
   "outputs": [
    {
     "data": {
      "text/plain": [
       "[12,\n",
       " 1,\n",
       " 'abc',\n",
       " 22,\n",
       " 'TRC',\n",
       " 'OQ',\n",
       " 77,\n",
       " 10,\n",
       " 22,\n",
       " 0,\n",
       " 'MAnsi',\n",
       " 'M',\n",
       " 'a',\n",
       " 'n',\n",
       " 's',\n",
       " 'i']"
      ]
     },
     "execution_count": 20,
     "metadata": {},
     "output_type": "execute_result"
    }
   ],
   "source": [
    "l1 "
   ]
  },
  {
   "cell_type": "code",
   "execution_count": 21,
   "metadata": {
    "ExecuteTime": {
     "end_time": "2024-05-13T10:28:34.435998Z",
     "start_time": "2024-05-13T10:28:34.414048Z"
    }
   },
   "outputs": [
    {
     "data": {
      "text/plain": [
       "'i'"
      ]
     },
     "execution_count": 21,
     "metadata": {},
     "output_type": "execute_result"
    }
   ],
   "source": [
    "l1.pop()\n"
   ]
  },
  {
   "cell_type": "code",
   "execution_count": 22,
   "metadata": {
    "ExecuteTime": {
     "end_time": "2024-05-13T10:28:37.594178Z",
     "start_time": "2024-05-13T10:28:37.571165Z"
    }
   },
   "outputs": [
    {
     "data": {
      "text/plain": [
       "[12, 1, 'abc', 22, 'TRC', 'OQ', 77, 10, 22, 0, 'MAnsi', 'M', 'a', 'n', 's']"
      ]
     },
     "execution_count": 22,
     "metadata": {},
     "output_type": "execute_result"
    }
   ],
   "source": [
    "l1 "
   ]
  },
  {
   "cell_type": "code",
   "execution_count": 23,
   "metadata": {
    "ExecuteTime": {
     "end_time": "2024-05-13T10:29:06.721876Z",
     "start_time": "2024-05-13T10:29:06.700936Z"
    }
   },
   "outputs": [
    {
     "data": {
      "text/plain": [
       "12"
      ]
     },
     "execution_count": 23,
     "metadata": {},
     "output_type": "execute_result"
    }
   ],
   "source": [
    "l1.pop(0)"
   ]
  },
  {
   "cell_type": "code",
   "execution_count": 24,
   "metadata": {
    "ExecuteTime": {
     "end_time": "2024-05-13T10:29:14.125774Z",
     "start_time": "2024-05-13T10:29:14.099813Z"
    }
   },
   "outputs": [
    {
     "data": {
      "text/plain": [
       "[1, 'abc', 22, 'TRC', 'OQ', 77, 10, 22, 0, 'MAnsi', 'M', 'a', 'n', 's']"
      ]
     },
     "execution_count": 24,
     "metadata": {},
     "output_type": "execute_result"
    }
   ],
   "source": [
    "l1"
   ]
  },
  {
   "cell_type": "code",
   "execution_count": 25,
   "metadata": {
    "ExecuteTime": {
     "end_time": "2024-05-13T10:29:47.180309Z",
     "start_time": "2024-05-13T10:29:47.151391Z"
    }
   },
   "outputs": [
    {
     "ename": "ValueError",
     "evalue": "list.remove(x): x not in list",
     "output_type": "error",
     "traceback": [
      "\u001b[1;31m---------------------------------------------------------------------------\u001b[0m",
      "\u001b[1;31mValueError\u001b[0m                                Traceback (most recent call last)",
      "\u001b[1;32m<ipython-input-25-a9779904444a>\u001b[0m in \u001b[0;36m<module>\u001b[1;34m\u001b[0m\n\u001b[1;32m----> 1\u001b[1;33m \u001b[0ml1\u001b[0m\u001b[1;33m.\u001b[0m\u001b[0mremove\u001b[0m\u001b[1;33m(\u001b[0m\u001b[1;34m'y'\u001b[0m\u001b[1;33m)\u001b[0m\u001b[1;33m\u001b[0m\u001b[1;33m\u001b[0m\u001b[0m\n\u001b[0m",
      "\u001b[1;31mValueError\u001b[0m: list.remove(x): x not in list"
     ]
    }
   ],
   "source": [
    "l1.remove('y')"
   ]
  },
  {
   "cell_type": "code",
   "execution_count": 26,
   "metadata": {
    "ExecuteTime": {
     "end_time": "2024-05-13T10:29:59.245834Z",
     "start_time": "2024-05-13T10:29:59.232869Z"
    }
   },
   "outputs": [],
   "source": [
    "l1.remove(1)"
   ]
  },
  {
   "cell_type": "code",
   "execution_count": 27,
   "metadata": {
    "ExecuteTime": {
     "end_time": "2024-05-13T10:30:05.798778Z",
     "start_time": "2024-05-13T10:30:05.780827Z"
    }
   },
   "outputs": [
    {
     "data": {
      "text/plain": [
       "['abc', 22, 'TRC', 'OQ', 77, 10, 22, 0, 'MAnsi', 'M', 'a', 'n', 's']"
      ]
     },
     "execution_count": 27,
     "metadata": {},
     "output_type": "execute_result"
    }
   ],
   "source": [
    "l1 "
   ]
  },
  {
   "cell_type": "code",
   "execution_count": 28,
   "metadata": {
    "ExecuteTime": {
     "end_time": "2024-05-13T10:30:22.097496Z",
     "start_time": "2024-05-13T10:30:22.076555Z"
    }
   },
   "outputs": [
    {
     "data": {
      "text/plain": [
       "['abc', 22, 'TRC', 'OQ', 77, [1, 2, 3], 10, 22, 0, 'MAnsi', 'M', 'a', 'n', 's']"
      ]
     },
     "execution_count": 28,
     "metadata": {},
     "output_type": "execute_result"
    }
   ],
   "source": [
    "l1.insert(5,[1,2,3])\n",
    "l1 "
   ]
  },
  {
   "cell_type": "code",
   "execution_count": 29,
   "metadata": {
    "ExecuteTime": {
     "end_time": "2024-05-13T10:30:35.971275Z",
     "start_time": "2024-05-13T10:30:35.963296Z"
    }
   },
   "outputs": [
    {
     "data": {
      "text/plain": [
       "[]"
      ]
     },
     "execution_count": 29,
     "metadata": {},
     "output_type": "execute_result"
    }
   ],
   "source": [
    "l1.clear()\n",
    "l1 "
   ]
  },
  {
   "cell_type": "code",
   "execution_count": 30,
   "metadata": {
    "ExecuteTime": {
     "end_time": "2024-05-13T10:30:58.723601Z",
     "start_time": "2024-05-13T10:30:58.713616Z"
    }
   },
   "outputs": [],
   "source": [
    "l1.insert(3,3)"
   ]
  },
  {
   "cell_type": "code",
   "execution_count": 32,
   "metadata": {
    "ExecuteTime": {
     "end_time": "2024-05-13T10:31:20.751990Z",
     "start_time": "2024-05-13T10:31:20.747008Z"
    }
   },
   "outputs": [],
   "source": [
    "l1.insert(1,12)"
   ]
  },
  {
   "cell_type": "code",
   "execution_count": 33,
   "metadata": {
    "ExecuteTime": {
     "end_time": "2024-05-13T10:32:04.203412Z",
     "start_time": "2024-05-13T10:32:04.183455Z"
    }
   },
   "outputs": [
    {
     "data": {
      "text/plain": [
       "[3, 12, 'hi', [1, 2, 3]]"
      ]
     },
     "execution_count": 33,
     "metadata": {},
     "output_type": "execute_result"
    }
   ],
   "source": [
    "l1.append([1,2,3])\n",
    "l1.insert(2,'hi')\n",
    "l1 "
   ]
  },
  {
   "cell_type": "code",
   "execution_count": 35,
   "metadata": {
    "ExecuteTime": {
     "end_time": "2024-05-13T10:33:39.588039Z",
     "start_time": "2024-05-13T10:33:39.571567Z"
    }
   },
   "outputs": [
    {
     "data": {
      "text/plain": [
       "[12, 'hi', [1, 2, 3]]"
      ]
     },
     "execution_count": 35,
     "metadata": {},
     "output_type": "execute_result"
    }
   ],
   "source": [
    "#l1.remove([3][1])\n",
    "del(l1[0])\n",
    "l1 "
   ]
  },
  {
   "cell_type": "code",
   "execution_count": 36,
   "metadata": {
    "ExecuteTime": {
     "end_time": "2024-05-13T10:34:07.190441Z",
     "start_time": "2024-05-13T10:34:07.172489Z"
    }
   },
   "outputs": [
    {
     "data": {
      "text/plain": [
       "[12, 'hi', [1, 2]]"
      ]
     },
     "execution_count": 36,
     "metadata": {},
     "output_type": "execute_result"
    }
   ],
   "source": [
    "del l1[2][2]\n",
    "l1 "
   ]
  },
  {
   "cell_type": "code",
   "execution_count": 37,
   "metadata": {
    "ExecuteTime": {
     "end_time": "2024-05-13T10:34:30.980258Z",
     "start_time": "2024-05-13T10:34:30.965301Z"
    }
   },
   "outputs": [
    {
     "data": {
      "text/plain": [
       "[[1, 2], 'hi', 12]"
      ]
     },
     "execution_count": 37,
     "metadata": {},
     "output_type": "execute_result"
    }
   ],
   "source": [
    "l1.reverse()\n",
    "l1 "
   ]
  },
  {
   "cell_type": "code",
   "execution_count": 43,
   "metadata": {
    "ExecuteTime": {
     "end_time": "2024-05-13T10:37:32.208115Z",
     "start_time": "2024-05-13T10:37:32.198140Z"
    }
   },
   "outputs": [
    {
     "data": {
      "text/plain": [
       "[1, 2, 2, 12, 33, 33, 42]"
      ]
     },
     "execution_count": 43,
     "metadata": {},
     "output_type": "execute_result"
    }
   ],
   "source": [
    "l2 =[1,33,2,42,12,2,33]\n",
    "l2.sort()\n",
    "l2 \n"
   ]
  },
  {
   "cell_type": "code",
   "execution_count": 45,
   "metadata": {
    "ExecuteTime": {
     "end_time": "2024-05-13T10:40:58.617265Z",
     "start_time": "2024-05-13T10:40:58.608769Z"
    }
   },
   "outputs": [
    {
     "name": "stdout",
     "output_type": "stream",
     "text": [
      "[1, 2, 2, 12, 33, 33, 42, 0, 1, 2, 3, 4, 0, 1, 2, 3, 4]\n"
     ]
    }
   ],
   "source": [
    "for i in range(5):\n",
    "    l2.append(i)\n",
    "print(l2)"
   ]
  },
  {
   "cell_type": "code",
   "execution_count": null,
   "metadata": {},
   "outputs": [],
   "source": []
  }
 ],
 "metadata": {
  "kernelspec": {
   "display_name": "Python 3",
   "language": "python",
   "name": "python3"
  },
  "language_info": {
   "codemirror_mode": {
    "name": "ipython",
    "version": 3
   },
   "file_extension": ".py",
   "mimetype": "text/x-python",
   "name": "python",
   "nbconvert_exporter": "python",
   "pygments_lexer": "ipython3",
   "version": "3.7.6"
  }
 },
 "nbformat": 4,
 "nbformat_minor": 4
}

{
 "cells": [
  {
   "cell_type": "code",
   "execution_count": 2,
   "metadata": {
    "ExecuteTime": {
     "end_time": "2024-05-28T11:45:19.632760Z",
     "start_time": "2024-05-28T11:45:19.618849Z"
    }
   },
   "outputs": [],
   "source": [
    "import numpy as np"
   ]
  },
  {
   "cell_type": "markdown",
   "metadata": {},
   "source": [
    "### NumPy Array creation"
   ]
  },
  {
   "cell_type": "code",
   "execution_count": 4,
   "metadata": {
    "ExecuteTime": {
     "end_time": "2024-05-28T11:57:43.150592Z",
     "start_time": "2024-05-28T11:57:43.131961Z"
    }
   },
   "outputs": [
    {
     "name": "stdout",
     "output_type": "stream",
     "text": [
      "[1 2 3 4 5]\n",
      "<class 'numpy.ndarray'>\n"
     ]
    }
   ],
   "source": [
    "x = np.array([1,2,3,4,5])\n",
    "print(x)\n",
    "print(type(x))"
   ]
  },
  {
   "cell_type": "code",
   "execution_count": 5,
   "metadata": {
    "ExecuteTime": {
     "end_time": "2024-05-28T11:58:10.623201Z",
     "start_time": "2024-05-28T11:58:10.608371Z"
    }
   },
   "outputs": [
    {
     "name": "stdout",
     "output_type": "stream",
     "text": [
      "[1, 2, 3, 4]\n",
      "<class 'list'>\n"
     ]
    }
   ],
   "source": [
    "y = [1,2,3,4]\n",
    "print(y)\n",
    "print(type(y))"
   ]
  },
  {
   "cell_type": "code",
   "execution_count": 8,
   "metadata": {
    "ExecuteTime": {
     "end_time": "2024-05-28T12:11:07.545448Z",
     "start_time": "2024-05-28T12:10:58.618636Z"
    }
   },
   "outputs": [
    {
     "name": "stdout",
     "output_type": "stream",
     "text": [
      "11.3 µs ± 1.96 µs per loop (mean ± std. dev. of 7 runs, 100000 loops each)\n"
     ]
    }
   ],
   "source": [
    "%timeit [j**4 for j in range(1,9)]"
   ]
  },
  {
   "cell_type": "code",
   "execution_count": 9,
   "metadata": {
    "ExecuteTime": {
     "end_time": "2024-05-28T12:12:00.904302Z",
     "start_time": "2024-05-28T12:11:56.644119Z"
    }
   },
   "outputs": [
    {
     "name": "stdout",
     "output_type": "stream",
     "text": [
      "5.18 µs ± 607 ns per loop (mean ± std. dev. of 7 runs, 100000 loops each)\n"
     ]
    }
   ],
   "source": [
    "import numpy as np \n",
    "%timeit np.arange(1,9)**4"
   ]
  },
  {
   "cell_type": "code",
   "execution_count": 10,
   "metadata": {
    "ExecuteTime": {
     "end_time": "2024-05-28T12:21:48.180035Z",
     "start_time": "2024-05-28T12:21:29.824019Z"
    }
   },
   "outputs": [
    {
     "name": "stdout",
     "output_type": "stream",
     "text": [
      "2.28 µs ± 645 ns per loop (mean ± std. dev. of 7 runs, 1000000 loops each)\n"
     ]
    }
   ],
   "source": [
    "%timeit np.arange(1,9)**4"
   ]
  },
  {
   "cell_type": "markdown",
   "metadata": {},
   "source": [
    "# Array"
   ]
  },
  {
   "cell_type": "code",
   "execution_count": 12,
   "metadata": {
    "ExecuteTime": {
     "end_time": "2024-05-28T12:36:47.927651Z",
     "start_time": "2024-05-28T12:36:47.920057Z"
    }
   },
   "outputs": [
    {
     "name": "stdout",
     "output_type": "stream",
     "text": [
      "[1 2 3 4]\n",
      "<class 'numpy.ndarray'>\n"
     ]
    }
   ],
   "source": [
    "x = [1,2,3,4]\n",
    "y=np.array(x)\n",
    "print(y)\n",
    "print(type(y))"
   ]
  },
  {
   "cell_type": "code",
   "execution_count": 14,
   "metadata": {
    "ExecuteTime": {
     "end_time": "2024-05-28T12:39:14.245827Z",
     "start_time": "2024-05-28T12:39:09.077183Z"
    }
   },
   "outputs": [
    {
     "name": "stdout",
     "output_type": "stream",
     "text": [
      "Enter :12\n",
      "Enter :13\n",
      "Enter :14\n",
      "Enter :15\n",
      "[12 13 14 15]\n"
     ]
    }
   ],
   "source": [
    "l = []\n",
    "for i in range(1,5):\n",
    "    int_1 = int(input('Enter :'))\n",
    "    l.append(int_1)\n",
    "print(np.array(l))    "
   ]
  },
  {
   "cell_type": "code",
   "execution_count": 16,
   "metadata": {
    "ExecuteTime": {
     "end_time": "2024-05-28T15:06:20.512003Z",
     "start_time": "2024-05-28T15:06:20.497189Z"
    }
   },
   "outputs": [
    {
     "name": "stdout",
     "output_type": "stream",
     "text": [
      "[1 2 3 4]\n"
     ]
    }
   ],
   "source": [
    "# 1d_array,2d_array,3d_array\n",
    "ar1 = np.array([1,2,3,4])\n",
    "print(ar1)"
   ]
  },
  {
   "cell_type": "code",
   "execution_count": 24,
   "metadata": {
    "ExecuteTime": {
     "end_time": "2024-05-28T15:11:06.126322Z",
     "start_time": "2024-05-28T15:11:06.115861Z"
    }
   },
   "outputs": [
    {
     "name": "stdout",
     "output_type": "stream",
     "text": [
      "[[[1 2 3 4]\n",
      "  [1 2 3 4]]]\n",
      "3\n"
     ]
    }
   ],
   "source": [
    "ar2 = np.array([[[1,2,3,4],[1,2,3,4]]])\n",
    "print(ar2)\n",
    "print(ar2.ndim)"
   ]
  },
  {
   "cell_type": "code",
   "execution_count": 21,
   "metadata": {
    "ExecuteTime": {
     "end_time": "2024-05-28T15:08:27.448363Z",
     "start_time": "2024-05-28T15:08:27.429415Z"
    }
   },
   "outputs": [
    {
     "name": "stdout",
     "output_type": "stream",
     "text": [
      "[[[[[1 2 3 4]]]]]\n"
     ]
    }
   ],
   "source": [
    "arn = np.array([1,2,3,4],ndmin=5)\n",
    "print(arn)"
   ]
  },
  {
   "cell_type": "code",
   "execution_count": 22,
   "metadata": {
    "ExecuteTime": {
     "end_time": "2024-05-28T15:09:07.093924Z",
     "start_time": "2024-05-28T15:09:07.080960Z"
    }
   },
   "outputs": [
    {
     "data": {
      "text/plain": [
       "array([[1, 2, 3, 4],\n",
       "       [1, 2, 3, 4]])"
      ]
     },
     "execution_count": 22,
     "metadata": {},
     "output_type": "execute_result"
    }
   ],
   "source": [
    "ar3 = np.array([[1,2,3,4],[1,2,3,4]])\n",
    "ar3 "
   ]
  },
  {
   "cell_type": "markdown",
   "metadata": {},
   "source": [
    "# Ones"
   ]
  },
  {
   "cell_type": "code",
   "execution_count": 25,
   "metadata": {
    "ExecuteTime": {
     "end_time": "2024-05-28T15:36:58.006281Z",
     "start_time": "2024-05-28T15:36:57.987175Z"
    }
   },
   "outputs": [
    {
     "data": {
      "text/plain": [
       "array([1., 1., 1., 1.])"
      ]
     },
     "execution_count": 25,
     "metadata": {},
     "output_type": "execute_result"
    }
   ],
   "source": [
    "ar_one = np.ones(4)\n",
    "ar_one "
   ]
  },
  {
   "cell_type": "markdown",
   "metadata": {},
   "source": [
    "# Empty"
   ]
  },
  {
   "cell_type": "code",
   "execution_count": 26,
   "metadata": {
    "ExecuteTime": {
     "end_time": "2024-05-28T15:37:34.135770Z",
     "start_time": "2024-05-28T15:37:34.115574Z"
    }
   },
   "outputs": [
    {
     "name": "stdout",
     "output_type": "stream",
     "text": [
      "[1. 1. 1. 1.]\n"
     ]
    }
   ],
   "source": [
    "ar_em = np.empty(4)\n",
    "print(ar_em)"
   ]
  },
  {
   "cell_type": "markdown",
   "metadata": {},
   "source": [
    "# Range"
   ]
  },
  {
   "cell_type": "code",
   "execution_count": 27,
   "metadata": {
    "ExecuteTime": {
     "end_time": "2024-05-28T15:38:43.020627Z",
     "start_time": "2024-05-28T15:38:43.013648Z"
    }
   },
   "outputs": [
    {
     "name": "stdout",
     "output_type": "stream",
     "text": [
      "[0 1 2 3]\n"
     ]
    }
   ],
   "source": [
    "ar_rn = np.arange(4)\n",
    "print(ar_rn)"
   ]
  },
  {
   "cell_type": "markdown",
   "metadata": {},
   "source": [
    "# Diagonal"
   ]
  },
  {
   "cell_type": "markdown",
   "metadata": {
    "ExecuteTime": {
     "end_time": "2024-05-28T15:40:43.181432Z",
     "start_time": "2024-05-28T15:40:43.170400Z"
    }
   },
   "source": [
    "# ar_dia = np.eye(3)\n",
    "print(ar_dia)\n"
   ]
  },
  {
   "cell_type": "code",
   "execution_count": 29,
   "metadata": {
    "ExecuteTime": {
     "end_time": "2024-05-28T15:41:53.024205Z",
     "start_time": "2024-05-28T15:41:53.016631Z"
    }
   },
   "outputs": [
    {
     "name": "stdout",
     "output_type": "stream",
     "text": [
      "[[1. 0. 0. 0. 0.]\n",
      " [0. 1. 0. 0. 0.]\n",
      " [0. 0. 1. 0. 0.]]\n"
     ]
    }
   ],
   "source": [
    "ar_dia = np.eye(3,5)\n",
    "print(ar_dia)"
   ]
  },
  {
   "cell_type": "markdown",
   "metadata": {},
   "source": [
    "# Linespace"
   ]
  },
  {
   "cell_type": "code",
   "execution_count": 31,
   "metadata": {
    "ExecuteTime": {
     "end_time": "2024-05-28T15:43:11.262863Z",
     "start_time": "2024-05-28T15:43:11.247924Z"
    }
   },
   "outputs": [
    {
     "name": "stdout",
     "output_type": "stream",
     "text": [
      "[ 0.   2.5  5.   7.5 10. ]\n"
     ]
    }
   ],
   "source": [
    "ar_lin = np.linspace(0,10,num=5)\n",
    "print(ar_lin)"
   ]
  },
  {
   "cell_type": "markdown",
   "metadata": {},
   "source": [
    "# Random"
   ]
  },
  {
   "cell_type": "markdown",
   "metadata": {},
   "source": [
    "## Rand()"
   ]
  },
  {
   "cell_type": "code",
   "execution_count": 32,
   "metadata": {
    "ExecuteTime": {
     "end_time": "2024-05-28T15:47:42.600975Z",
     "start_time": "2024-05-28T15:47:42.576440Z"
    }
   },
   "outputs": [
    {
     "data": {
      "text/plain": [
       "array([0.81508693, 0.71902486, 0.64020082, 0.03040299])"
      ]
     },
     "execution_count": 32,
     "metadata": {},
     "output_type": "execute_result"
    }
   ],
   "source": [
    "var = np.random.rand(4)\n",
    "var "
   ]
  },
  {
   "cell_type": "code",
   "execution_count": 46,
   "metadata": {
    "ExecuteTime": {
     "end_time": "2024-05-28T15:59:19.336922Z",
     "start_time": "2024-05-28T15:59:19.322961Z"
    }
   },
   "outputs": [
    {
     "name": "stdout",
     "output_type": "stream",
     "text": [
      "[[[-1.16372387 -0.56864731]\n",
      "  [-1.28944414 -1.05761452]]\n",
      "\n",
      " [[-2.39341089  0.32690324]\n",
      "  [ 0.03932199  0.07544635]]]\n",
      "3\n"
     ]
    }
   ],
   "source": [
    "var1 = np.random.randn(2,2,2)\n",
    "print(var1)\n",
    "print(var1.ndim)"
   ]
  },
  {
   "cell_type": "markdown",
   "metadata": {},
   "source": [
    "## randn()"
   ]
  },
  {
   "cell_type": "code",
   "execution_count": 47,
   "metadata": {
    "ExecuteTime": {
     "end_time": "2024-05-29T07:22:21.607016Z",
     "start_time": "2024-05-29T07:22:21.551414Z"
    }
   },
   "outputs": [
    {
     "data": {
      "text/plain": [
       "array([ 0.05415973,  1.16897522, -0.68763753, -0.36696153,  0.20755431])"
      ]
     },
     "execution_count": 47,
     "metadata": {},
     "output_type": "execute_result"
    }
   ],
   "source": [
    "var2 = np.random.randn(5)\n",
    "var2 "
   ]
  },
  {
   "cell_type": "markdown",
   "metadata": {},
   "source": [
    "## randf()"
   ]
  },
  {
   "cell_type": "code",
   "execution_count": 48,
   "metadata": {
    "ExecuteTime": {
     "end_time": "2024-05-29T07:22:42.464154Z",
     "start_time": "2024-05-29T07:22:42.440709Z"
    }
   },
   "outputs": [
    {
     "data": {
      "text/plain": [
       "array([0.33732872, 0.28759287, 0.97019345, 0.46045536])"
      ]
     },
     "execution_count": 48,
     "metadata": {},
     "output_type": "execute_result"
    }
   ],
   "source": [
    "var3 = np.random.ranf(4) \n",
    "var3 "
   ]
  },
  {
   "cell_type": "markdown",
   "metadata": {},
   "source": [
    "## randint()"
   ]
  },
  {
   "cell_type": "code",
   "execution_count": 50,
   "metadata": {
    "ExecuteTime": {
     "end_time": "2024-05-29T07:25:52.872138Z",
     "start_time": "2024-05-29T07:25:52.834776Z"
    }
   },
   "outputs": [
    {
     "name": "stdout",
     "output_type": "stream",
     "text": [
      "[14  8 16 16 16]\n"
     ]
    }
   ],
   "source": [
    "var4 = np.random.randint(5,20,5)\n",
    "print(var4)"
   ]
  },
  {
   "cell_type": "markdown",
   "metadata": {},
   "source": [
    "# Numpy DataType"
   ]
  },
  {
   "cell_type": "code",
   "execution_count": 51,
   "metadata": {
    "ExecuteTime": {
     "end_time": "2024-05-29T07:34:39.321231Z",
     "start_time": "2024-05-29T07:34:39.299126Z"
    }
   },
   "outputs": [
    {
     "name": "stdout",
     "output_type": "stream",
     "text": [
      "Data type : int32\n"
     ]
    }
   ],
   "source": [
    "var = np.array([1,2,3,4])\n",
    "print('Data type :',var.dtype)\n"
   ]
  },
  {
   "cell_type": "code",
   "execution_count": 52,
   "metadata": {
    "ExecuteTime": {
     "end_time": "2024-05-29T07:35:03.595240Z",
     "start_time": "2024-05-29T07:35:03.585664Z"
    }
   },
   "outputs": [
    {
     "name": "stdout",
     "output_type": "stream",
     "text": [
      "Data type : float64\n"
     ]
    }
   ],
   "source": [
    "var = np.array([1.2,2,3,4])\n",
    "print('Data type :',var.dtype)\n"
   ]
  },
  {
   "cell_type": "code",
   "execution_count": 53,
   "metadata": {
    "ExecuteTime": {
     "end_time": "2024-05-29T07:35:16.663788Z",
     "start_time": "2024-05-29T07:35:16.639584Z"
    }
   },
   "outputs": [
    {
     "name": "stdout",
     "output_type": "stream",
     "text": [
      "Data type : <U32\n"
     ]
    }
   ],
   "source": [
    "var = np.array([1.2,'Hello',3,4])\n",
    "print('Data type :',var.dtype)\n"
   ]
  },
  {
   "cell_type": "code",
   "execution_count": 55,
   "metadata": {
    "ExecuteTime": {
     "end_time": "2024-05-29T07:35:57.746953Z",
     "start_time": "2024-05-29T07:35:57.727520Z"
    }
   },
   "outputs": [
    {
     "name": "stdout",
     "output_type": "stream",
     "text": [
      "Data type : <U1\n"
     ]
    }
   ],
   "source": [
    "var = np.array(['a','b'])\n",
    "print('Data type :',var.dtype)\n"
   ]
  },
  {
   "cell_type": "code",
   "execution_count": 56,
   "metadata": {
    "ExecuteTime": {
     "end_time": "2024-05-29T07:36:11.327546Z",
     "start_time": "2024-05-29T07:36:11.308649Z"
    }
   },
   "outputs": [
    {
     "name": "stdout",
     "output_type": "stream",
     "text": [
      "Data type : <U2\n"
     ]
    }
   ],
   "source": [
    "var = np.array(['a','bo'])\n",
    "print('Data type :',var.dtype)\n"
   ]
  },
  {
   "cell_type": "code",
   "execution_count": 77,
   "metadata": {
    "ExecuteTime": {
     "end_time": "2024-05-29T07:54:38.353154Z",
     "start_time": "2024-05-29T07:54:38.334204Z"
    }
   },
   "outputs": [
    {
     "name": "stdout",
     "output_type": "stream",
     "text": [
      "int32\n",
      "[1. 2. 3. 4. 5.]\n",
      "float32\n",
      "[b'1' b'2' b'3' b'4' b'5']\n",
      "|S1\n"
     ]
    }
   ],
   "source": [
    "x = np.array([1,2,3,4])\n",
    "print(x.dtype)\n",
    "#convert to float\n",
    "x1 = np.array([1,2,3,4,5],dtype='f')\n",
    "xc = np.array([1,2,3,4,5],dtype='c') #complex float\n",
    "\n",
    "print(x1)\n",
    "print(x1.dtype)\n",
    "print(xc)\n",
    "print(xc.dtype)"
   ]
  },
  {
   "cell_type": "code",
   "execution_count": 64,
   "metadata": {
    "ExecuteTime": {
     "end_time": "2024-05-29T07:48:37.757543Z",
     "start_time": "2024-05-29T07:48:37.739987Z"
    }
   },
   "outputs": [
    {
     "name": "stdout",
     "output_type": "stream",
     "text": [
      "[1 2 3 4]\n",
      "[1. 2. 3. 4.]\n",
      "[1 2 3 4]\n"
     ]
    }
   ],
   "source": [
    "# use as a function\n",
    "x2 = np.array([1,2,3,4])\n",
    "new = np.float32(x2)\n",
    "new1 = np.int_(x2)\n",
    "\n",
    "print(x2)\n",
    "print(new)\n",
    "print(new1)"
   ]
  },
  {
   "cell_type": "code",
   "execution_count": 69,
   "metadata": {
    "ExecuteTime": {
     "end_time": "2024-05-29T07:52:06.234928Z",
     "start_time": "2024-05-29T07:52:06.220499Z"
    }
   },
   "outputs": [
    {
     "name": "stdout",
     "output_type": "stream",
     "text": [
      "[1 2 3 4]\n",
      "[1.+0.j 2.+0.j 3.+0.j 4.+0.j]\n"
     ]
    }
   ],
   "source": [
    "# change type\n",
    "x3 = np.array([1,2,3,4])\n",
    "new2 = x3.astype(complex)\n",
    "print(x3)\n",
    "print(new2)\n"
   ]
  },
  {
   "cell_type": "markdown",
   "metadata": {},
   "source": [
    "# Airthmetic Operation\n"
   ]
  },
  {
   "cell_type": "code",
   "execution_count": 79,
   "metadata": {
    "ExecuteTime": {
     "end_time": "2024-05-29T08:14:33.161053Z",
     "start_time": "2024-05-29T08:14:33.145390Z"
    }
   },
   "outputs": [
    {
     "name": "stdout",
     "output_type": "stream",
     "text": [
      "[4 5 6 7]\n"
     ]
    }
   ],
   "source": [
    "import numpy as np \n",
    "var = np.array([1,2,3,4])\n",
    "varadd = var +3\n",
    "print(varadd)"
   ]
  },
  {
   "cell_type": "code",
   "execution_count": 82,
   "metadata": {
    "ExecuteTime": {
     "end_time": "2024-05-29T08:16:13.297220Z",
     "start_time": "2024-05-29T08:16:13.269633Z"
    }
   },
   "outputs": [
    {
     "name": "stdout",
     "output_type": "stream",
     "text": [
      "[2 4 6 8]\n",
      "[1. 1. 1. 1.]\n",
      "[0.33333333 0.66666667 1.         1.33333333]\n"
     ]
    }
   ],
   "source": [
    "var2 = np.array([1,2,3,4])\n",
    "var1 = np.array([1,2,3,4])\n",
    "\n",
    "varadd = var1+var2 \n",
    "vardiv = var1/var2\n",
    "vardiv_1 = var1 /3 \n",
    "\n",
    "print(varadd)\n",
    "print(vardiv)\n",
    "print(vardiv_1)"
   ]
  },
  {
   "cell_type": "code",
   "execution_count": 88,
   "metadata": {
    "ExecuteTime": {
     "end_time": "2024-05-29T08:23:11.421518Z",
     "start_time": "2024-05-29T08:23:11.403580Z"
    }
   },
   "outputs": [
    {
     "name": "stdout",
     "output_type": "stream",
     "text": [
      "[list([1, 2, 3, 1, 2, 3]) list([1, 2, 1, 2])]\n"
     ]
    }
   ],
   "source": [
    "# 2d array\n",
    "var21 = np.array([[1,2,3],[1,2]])\n",
    "var22 = np.array([[1,2,3],[1,2]])\n",
    "\n",
    "varadd2 = var21 + var22\n",
    "print(varadd2)"
   ]
  },
  {
   "cell_type": "code",
   "execution_count": 89,
   "metadata": {
    "ExecuteTime": {
     "end_time": "2024-05-29T08:23:37.461690Z",
     "start_time": "2024-05-29T08:23:37.443926Z"
    }
   },
   "outputs": [
    {
     "name": "stdout",
     "output_type": "stream",
     "text": [
      "[[2 4]\n",
      " [2 4]]\n"
     ]
    }
   ],
   "source": [
    "# 2d array\n",
    "var21 = np.array([[1,2],[1,2]])\n",
    "var22 = np.array([[1,2],[1,2]])\n",
    "\n",
    "varadd2 = var21 + var22\n",
    "print(varadd2)"
   ]
  },
  {
   "cell_type": "code",
   "execution_count": 97,
   "metadata": {
    "ExecuteTime": {
     "end_time": "2024-05-29T08:31:58.572310Z",
     "start_time": "2024-05-29T08:31:58.554540Z"
    }
   },
   "outputs": [
    {
     "name": "stdout",
     "output_type": "stream",
     "text": [
      "min : 1\n",
      "max : 6\n",
      "argmin : 0\n",
      "cumnsum : [ 1  3  6 10 15 21]\n",
      "sqrt : [1.         1.41421356 1.73205081 2.         2.23606798 2.44948974]\n",
      "sin : [ 0.84147098  0.90929743  0.14112001 -0.7568025  -0.95892427 -0.2794155 ]\n"
     ]
    }
   ],
   "source": [
    "# Airthmetic function\n",
    "var = np.array([1,2,3,4,5,6])\n",
    "print('min :',np.min(var))\n",
    "print('max :',np.max(var))\n",
    "print('argmin :',np.argmin(var))\n",
    "print('cumnsum :',np.cumsum(var))\n",
    "print('sqrt :',np.sqrt(var))\n",
    "print('sin :',np.sin(var))"
   ]
  },
  {
   "cell_type": "code",
   "execution_count": 95,
   "metadata": {
    "ExecuteTime": {
     "end_time": "2024-05-29T08:30:24.863837Z",
     "start_time": "2024-05-29T08:30:24.845519Z"
    }
   },
   "outputs": [
    {
     "name": "stdout",
     "output_type": "stream",
     "text": [
      "[1 5]\n",
      "[2 1 6]\n"
     ]
    }
   ],
   "source": [
    "# 2d array\n",
    "var1 = np.array([[2,1,8],[9,5,6]])\n",
    "print(np.min(var1,axis=1)) #rowwise\n",
    "print(np.min(var1,axis=0)) #column wise"
   ]
  },
  {
   "cell_type": "markdown",
   "metadata": {},
   "source": [
    "# Shape & Reshape"
   ]
  },
  {
   "cell_type": "code",
   "execution_count": 106,
   "metadata": {
    "ExecuteTime": {
     "end_time": "2024-05-29T08:38:26.629792Z",
     "start_time": "2024-05-29T08:38:26.606997Z"
    }
   },
   "outputs": [
    {
     "name": "stdout",
     "output_type": "stream",
     "text": [
      "[list([1, 2, 5]) list([1, 2])]\n",
      "(2,)\n",
      "<class 'numpy.ndarray'>\n"
     ]
    }
   ],
   "source": [
    "var = np.array([[1,2,5],[1,2]])\n",
    "print(var)\n",
    "print(var.shape)\n",
    "print(type(var))"
   ]
  },
  {
   "cell_type": "code",
   "execution_count": 112,
   "metadata": {
    "ExecuteTime": {
     "end_time": "2024-05-29T08:42:17.034886Z",
     "start_time": "2024-05-29T08:42:17.027904Z"
    }
   },
   "outputs": [
    {
     "name": "stdout",
     "output_type": "stream",
     "text": [
      "[[[[1 2 3]\n",
      "   [1 2 3]]]]\n",
      "(1, 1, 2, 3)\n"
     ]
    }
   ],
   "source": [
    "var1 = np.array([[1,2,3],[1,2,3]],ndmin=4)\n",
    "print(var1)\n",
    "print(var1.shape)"
   ]
  },
  {
   "cell_type": "code",
   "execution_count": 114,
   "metadata": {
    "ExecuteTime": {
     "end_time": "2024-05-29T08:42:55.603665Z",
     "start_time": "2024-05-29T08:42:55.586153Z"
    }
   },
   "outputs": [
    {
     "name": "stdout",
     "output_type": "stream",
     "text": [
      "[[[[1 2 3]]]]\n",
      "(1, 1, 1, 3)\n"
     ]
    }
   ],
   "source": [
    "var1 = np.array([1,2,3],ndmin=4)\n",
    "print(var1)\n",
    "print(var1.shape)"
   ]
  },
  {
   "cell_type": "code",
   "execution_count": 118,
   "metadata": {
    "ExecuteTime": {
     "end_time": "2024-05-29T08:46:09.989797Z",
     "start_time": "2024-05-29T08:46:09.967347Z"
    }
   },
   "outputs": [
    {
     "name": "stdout",
     "output_type": "stream",
     "text": [
      "[[1 2 3]\n",
      " [4 5 6]]\n",
      "1\n",
      "2\n"
     ]
    }
   ],
   "source": [
    "#Reshape\n",
    "var2 = np.array([1,2,3,4,5,6])\n",
    "x = var2.reshape(2,3)\n",
    "print(x)\n",
    "print(var2.ndim)\n",
    "print(x.ndim)"
   ]
  },
  {
   "cell_type": "code",
   "execution_count": 126,
   "metadata": {
    "ExecuteTime": {
     "end_time": "2024-05-29T09:06:10.152804Z",
     "start_time": "2024-05-29T09:06:10.132017Z"
    }
   },
   "outputs": [
    {
     "name": "stdout",
     "output_type": "stream",
     "text": [
      "[[[ 1  2]\n",
      "  [ 3  4]\n",
      "  [ 5  6]]\n",
      "\n",
      " [[ 7  8]\n",
      "  [ 9 10]\n",
      "  [11 12]]]\n"
     ]
    }
   ],
   "source": [
    "# 3d array reshaping\n",
    "var3 = np.array([1,2,3,4,5,6,7,8,9,10,11,12])\n",
    "x3 = var3.reshape(2,3,2)\n",
    "print(x3)"
   ]
  },
  {
   "cell_type": "markdown",
   "metadata": {},
   "source": [
    "# Broadcastig"
   ]
  },
  {
   "cell_type": "code",
   "execution_count": 127,
   "metadata": {
    "ExecuteTime": {
     "end_time": "2024-05-29T09:09:52.132177Z",
     "start_time": "2024-05-29T09:09:52.112368Z"
    }
   },
   "outputs": [
    {
     "ename": "ValueError",
     "evalue": "operands could not be broadcast together with shapes (4,) (3,) ",
     "output_type": "error",
     "traceback": [
      "\u001b[1;31m---------------------------------------------------------------------------\u001b[0m",
      "\u001b[1;31mValueError\u001b[0m                                Traceback (most recent call last)",
      "\u001b[1;32m<ipython-input-127-059e8d78d72f>\u001b[0m in \u001b[0;36m<module>\u001b[1;34m\u001b[0m\n\u001b[0;32m      1\u001b[0m \u001b[0mvar1\u001b[0m \u001b[1;33m=\u001b[0m \u001b[0mnp\u001b[0m\u001b[1;33m.\u001b[0m\u001b[0marray\u001b[0m\u001b[1;33m(\u001b[0m\u001b[1;33m[\u001b[0m\u001b[1;36m1\u001b[0m\u001b[1;33m,\u001b[0m\u001b[1;36m2\u001b[0m\u001b[1;33m,\u001b[0m\u001b[1;36m3\u001b[0m\u001b[1;33m,\u001b[0m\u001b[1;36m4\u001b[0m\u001b[1;33m]\u001b[0m\u001b[1;33m)\u001b[0m\u001b[1;33m\u001b[0m\u001b[1;33m\u001b[0m\u001b[0m\n\u001b[0;32m      2\u001b[0m \u001b[0mvar2\u001b[0m \u001b[1;33m=\u001b[0m \u001b[0mnp\u001b[0m\u001b[1;33m.\u001b[0m\u001b[0marray\u001b[0m\u001b[1;33m(\u001b[0m\u001b[1;33m[\u001b[0m\u001b[1;36m1\u001b[0m\u001b[1;33m,\u001b[0m\u001b[1;36m2\u001b[0m\u001b[1;33m,\u001b[0m\u001b[1;36m3\u001b[0m\u001b[1;33m]\u001b[0m\u001b[1;33m)\u001b[0m\u001b[1;33m\u001b[0m\u001b[1;33m\u001b[0m\u001b[0m\n\u001b[1;32m----> 3\u001b[1;33m \u001b[0mprint\u001b[0m\u001b[1;33m(\u001b[0m\u001b[0mvar1\u001b[0m\u001b[1;33m+\u001b[0m\u001b[0mvar2\u001b[0m\u001b[1;33m)\u001b[0m\u001b[1;33m\u001b[0m\u001b[1;33m\u001b[0m\u001b[0m\n\u001b[0m",
      "\u001b[1;31mValueError\u001b[0m: operands could not be broadcast together with shapes (4,) (3,) "
     ]
    }
   ],
   "source": [
    "var1 = np.array([1,2,3,4])\n",
    "var2 = np.array([1,2,3])\n",
    "print(var1+var2)"
   ]
  },
  {
   "cell_type": "code",
   "execution_count": 132,
   "metadata": {
    "ExecuteTime": {
     "end_time": "2024-05-29T09:17:48.907153Z",
     "start_time": "2024-05-29T09:17:48.891197Z"
    }
   },
   "outputs": [
    {
     "name": "stdout",
     "output_type": "stream",
     "text": [
      "[[1]\n",
      " [2]\n",
      " [3]]\n",
      "(3, 1)\n",
      "[[1 2 3]]\n",
      "(1, 3)\n",
      "\n",
      "[[2 3 4]\n",
      " [3 4 5]\n",
      " [4 5 6]]\n"
     ]
    }
   ],
   "source": [
    "var = np.array([1,2,3])\n",
    "var1 = var.reshape(3,1)\n",
    "print(var1)\n",
    "print(var1.shape)\n",
    "var2 = var.reshape(1,3)\n",
    "print(var2)\n",
    "print(var2.shape)\n",
    "      \n",
    "print()\n",
    "print(var1+var2)"
   ]
  },
  {
   "cell_type": "code",
   "execution_count": 133,
   "metadata": {
    "ExecuteTime": {
     "end_time": "2024-05-29T09:23:52.254573Z",
     "start_time": "2024-05-29T09:23:52.228085Z"
    }
   },
   "outputs": [
    {
     "name": "stdout",
     "output_type": "stream",
     "text": [
      "[[2 3 4]\n",
      " [3 4 5]]\n"
     ]
    }
   ],
   "source": [
    "var1 = np.array([[1],[2]])\n",
    "var2 = np.array([[1,2,3],[1,2,3]])\n",
    "print(var1+var2)"
   ]
  },
  {
   "cell_type": "markdown",
   "metadata": {},
   "source": [
    "# Indexing and Slicing"
   ]
  },
  {
   "cell_type": "code",
   "execution_count": 134,
   "metadata": {
    "ExecuteTime": {
     "end_time": "2024-05-29T09:30:07.147291Z",
     "start_time": "2024-05-29T09:30:07.129106Z"
    }
   },
   "outputs": [
    {
     "name": "stdout",
     "output_type": "stream",
     "text": [
      "2\n"
     ]
    }
   ],
   "source": [
    "#1d\n",
    "var = np.array([1,2,3,4,5])\n",
    "print(var[1])"
   ]
  },
  {
   "cell_type": "code",
   "execution_count": 139,
   "metadata": {
    "ExecuteTime": {
     "end_time": "2024-05-29T09:33:27.425160Z",
     "start_time": "2024-05-29T09:33:27.401063Z"
    }
   },
   "outputs": [
    {
     "name": "stdout",
     "output_type": "stream",
     "text": [
      "[[1 9 6]\n",
      " [1 2 5]]\n",
      "2\n",
      "2\n",
      "9\n",
      "9\n"
     ]
    }
   ],
   "source": [
    "#2d\n",
    "var2d = np.array([[1,9,6],[1,2,5]])\n",
    "print(var2d)\n",
    "print(var2d.ndim)\n",
    "print(var2d[1][1])\n",
    "print(var2d[0,1])\n",
    "print(var2d[0][1])"
   ]
  },
  {
   "cell_type": "code",
   "execution_count": 145,
   "metadata": {
    "ExecuteTime": {
     "end_time": "2024-05-29T09:39:40.032225Z",
     "start_time": "2024-05-29T09:39:40.021732Z"
    }
   },
   "outputs": [
    {
     "name": "stdout",
     "output_type": "stream",
     "text": [
      "[[[1 2]\n",
      "  [1 2]]\n",
      "\n",
      " [[7 8]\n",
      "  [7 8]]]\n",
      "3\n",
      "\n",
      "8\n"
     ]
    }
   ],
   "source": [
    "#3d\n",
    "var3d = np.array([[[1,2],[1,2]],[[7,8],[7,8]]])\n",
    "print(var3d)\n",
    "print(var3d.ndim)\n",
    "print()\n",
    "print(var3d[1,1,1])"
   ]
  },
  {
   "cell_type": "code",
   "execution_count": 154,
   "metadata": {
    "ExecuteTime": {
     "end_time": "2024-05-29T09:46:24.949341Z",
     "start_time": "2024-05-29T09:46:24.924351Z"
    }
   },
   "outputs": [
    {
     "name": "stdout",
     "output_type": "stream",
     "text": [
      "[2 4 4]\n",
      "[3 4 5 4 5]\n",
      "[1 2 3 4]\n",
      "[1 2 3 4 5 4 5]\n",
      "[1 3 5 5]\n"
     ]
    }
   ],
   "source": [
    "#Slicing\n",
    "x = np.array([1,2,3,4,5,4,5])\n",
    "print(x[1:10:2])\n",
    "print(x[2:]) #up to end\n",
    "print(x[:4]) # up to 4\n",
    "print(x[::])\n",
    "print(x[::2])"
   ]
  },
  {
   "cell_type": "code",
   "execution_count": 160,
   "metadata": {
    "ExecuteTime": {
     "end_time": "2024-05-29T09:50:12.192675Z",
     "start_time": "2024-05-29T09:50:12.173664Z"
    }
   },
   "outputs": [
    {
     "name": "stdout",
     "output_type": "stream",
     "text": [
      "[[ 1  2  3  4]\n",
      " [ 5  6  7  9]\n",
      " [22 33 44 11]]\n",
      "2\n",
      "\n",
      "fetch 6 to 9 : [6 7 9]\n"
     ]
    }
   ],
   "source": [
    "# 2d slicing\n",
    "var2 = np.array([[1,2,3,4],[5,6,7,9],[22,33,44,11]])\n",
    "print(var2)\n",
    "print(var2.ndim)\n",
    "print()\n",
    "print('fetch 6 to 9 :',var2[1,1:])"
   ]
  },
  {
   "cell_type": "code",
   "execution_count": 164,
   "metadata": {
    "ExecuteTime": {
     "end_time": "2024-05-29T09:52:51.113044Z",
     "start_time": "2024-05-29T09:52:51.091110Z"
    }
   },
   "outputs": [
    {
     "name": "stdout",
     "output_type": "stream",
     "text": [
      "[[[ 1  2  3  4]\n",
      "  [ 5  6  7  9]\n",
      "  [22 33 44 11]]]\n",
      "3\n",
      "\n",
      "fetch 6 to 9 : [33 44 11]\n"
     ]
    }
   ],
   "source": [
    "# 3d slicing\n",
    "var2 = np.array([[[1,2,3,4],[5,6,7,9],[22,33,44,11]]])\n",
    "print(var2)\n",
    "print(var2.ndim)\n",
    "print()\n",
    "#print('fetch 6 to 9 :',var2[1,1:])\n",
    "print('fetch 6 to 9 :',var2[0,1,1:])"
   ]
  },
  {
   "cell_type": "code",
   "execution_count": 168,
   "metadata": {
    "ExecuteTime": {
     "end_time": "2024-05-29T09:54:58.724715Z",
     "start_time": "2024-05-29T09:54:58.705250Z"
    }
   },
   "outputs": [
    {
     "name": "stdout",
     "output_type": "stream",
     "text": [
      "[[[  1   2   3   4]\n",
      "  [  5   6   7   9]\n",
      "  [ 22  33  44  11]]\n",
      "\n",
      " [[  9   8   7   4]\n",
      "  [  4   4   4   4]\n",
      "  [220 330 440 110]]]\n",
      "3\n",
      "\n",
      "fetch 330 to 110 : [330 440 110]\n"
     ]
    }
   ],
   "source": [
    "# 3d slicing\n",
    "var2 = np.array([[[1,2,3,4],[5,6,7,9],[22,33,44,11]],[[9,8,7,4],[4,4,4,4],[220,330,440,110]]])\n",
    "print(var2)\n",
    "print(var2.ndim)\n",
    "print()\n",
    "print('fetch 330 to 110 :',var2[1,2,1:])"
   ]
  },
  {
   "cell_type": "markdown",
   "metadata": {},
   "source": [
    "# Iteration of Numpy Array"
   ]
  },
  {
   "cell_type": "code",
   "execution_count": 170,
   "metadata": {
    "ExecuteTime": {
     "end_time": "2024-05-29T10:03:26.292422Z",
     "start_time": "2024-05-29T10:03:26.276400Z"
    }
   },
   "outputs": [
    {
     "name": "stdout",
     "output_type": "stream",
     "text": [
      "[8 4 5 6 7 9]\n",
      "8\n",
      "4\n",
      "5\n",
      "6\n",
      "7\n",
      "9\n"
     ]
    }
   ],
   "source": [
    "x = np.array([8,4,5,6,7,9])\n",
    "print(x)\n",
    "for i in x:\n",
    "    print(i)\n",
    "    "
   ]
  },
  {
   "cell_type": "code",
   "execution_count": 174,
   "metadata": {
    "ExecuteTime": {
     "end_time": "2024-05-29T10:08:48.510984Z",
     "start_time": "2024-05-29T10:08:48.497430Z"
    }
   },
   "outputs": [
    {
     "name": "stdout",
     "output_type": "stream",
     "text": [
      "[[1 2 3]\n",
      " [1 2 3]]\n",
      "\n",
      "[1 2 3]\n",
      "[1 2 3]\n",
      "\n",
      "1\n",
      "2\n",
      "3\n",
      "1\n",
      "2\n",
      "3\n"
     ]
    }
   ],
   "source": [
    "var2 = np.array([[1,2,3],[1,2,3]])\n",
    "print(var2)\n",
    "print()\n",
    "for j in var2:\n",
    "    print(j)\n",
    "print()\n",
    "#seprate all elements\n",
    "for i in var2:\n",
    "    for j in i:\n",
    "        print(j)"
   ]
  },
  {
   "cell_type": "code",
   "execution_count": 195,
   "metadata": {
    "ExecuteTime": {
     "end_time": "2024-05-29T10:15:41.221259Z",
     "start_time": "2024-05-29T10:15:41.209489Z"
    }
   },
   "outputs": [
    {
     "name": "stdout",
     "output_type": "stream",
     "text": [
      "[[[1 2 3]\n",
      "  [1 1 1]]]\n",
      "3\n",
      "**********\n",
      "[[1 1 1]]\n",
      "\n",
      "[[1 2 3]\n",
      " [1 1 1]]\n",
      "\n",
      "1\n",
      "2\n",
      "3\n",
      "1\n",
      "1\n",
      "1\n"
     ]
    }
   ],
   "source": [
    "#3d array itration\n",
    "var3 = np.array([[[1,2,3],[1,1,1]]])\n",
    "print(var3)\n",
    "print(var3.ndim)\n",
    "print('**********')\n",
    "print(var3[0,1:])\n",
    "print()\n",
    "for i in var3:\n",
    "    print(i)\n",
    "    print()\n",
    "    for j in i:\n",
    "        for k in j:\n",
    "            print(k)\n"
   ]
  },
  {
   "cell_type": "code",
   "execution_count": 202,
   "metadata": {
    "ExecuteTime": {
     "end_time": "2024-05-29T10:24:23.832092Z",
     "start_time": "2024-05-29T10:24:23.789462Z"
    }
   },
   "outputs": [
    {
     "name": "stdout",
     "output_type": "stream",
     "text": [
      "[[[3 3 3 3]\n",
      "  [1 2 3 4]]]\n",
      "3\n",
      "b'3'\n",
      "b'3'\n",
      "b'3'\n",
      "b'3'\n",
      "b'1'\n",
      "b'2'\n",
      "b'3'\n",
      "b'4'\n",
      "*********************\n",
      "3\n",
      "3\n",
      "3\n",
      "3\n",
      "1\n",
      "2\n",
      "3\n",
      "4\n",
      "*********************\n",
      "(0, 0, 0) 3\n",
      "(0, 0, 1) 3\n",
      "(0, 0, 2) 3\n",
      "(0, 0, 3) 3\n",
      "(0, 1, 0) 1\n",
      "(0, 1, 1) 2\n",
      "(0, 1, 2) 3\n",
      "(0, 1, 3) 4\n"
     ]
    }
   ],
   "source": [
    "# nditer()\n",
    "var3 = np.array([[[3,3,3,3],[1,2,3,4]]])\n",
    "print(var3)\n",
    "print(var3.ndim)\n",
    "for i in np.nditer(var3,flags = ['buffered'],op_dtypes=[\"S\"]):\n",
    "    print(i)\n",
    "print('*********************')\n",
    "for i in np.nditer(var3):\n",
    "    print(i)\n",
    "print('*********************')\n",
    "for i,d in np.ndenumerate(var3):\n",
    "    print(i,d)\n"
   ]
  },
  {
   "cell_type": "markdown",
   "metadata": {},
   "source": [
    "# Copy vs Views"
   ]
  },
  {
   "cell_type": "code",
   "execution_count": 207,
   "metadata": {
    "ExecuteTime": {
     "end_time": "2024-05-29T10:31:57.017194Z",
     "start_time": "2024-05-29T10:31:57.004420Z"
    }
   },
   "outputs": [
    {
     "name": "stdout",
     "output_type": "stream",
     "text": [
      "[1 2 3 4]\n",
      "[1 2 3 4]\n",
      "***************\n",
      "[1 2 3 4]\n",
      "[ 1 40  3  4]\n"
     ]
    }
   ],
   "source": [
    "x = np.array([1,2,3,4])\n",
    "x_copy = x.copy()\n",
    "\n",
    "print(x_copy)\n",
    "x_view = x.view()\n",
    "print(x_view)\n",
    "print('***************')\n",
    "x[1]=40\n",
    "print(x_copy)\n",
    "print(x_view)\n",
    "\n",
    "\n"
   ]
  },
  {
   "cell_type": "markdown",
   "metadata": {},
   "source": [
    "# Join & Split Arrays"
   ]
  },
  {
   "cell_type": "code",
   "execution_count": 210,
   "metadata": {
    "ExecuteTime": {
     "end_time": "2024-05-29T10:38:10.136172Z",
     "start_time": "2024-05-29T10:38:10.120408Z"
    }
   },
   "outputs": [
    {
     "name": "stdout",
     "output_type": "stream",
     "text": [
      "[1 2 3 4 9 8 7 6]\n",
      "[10 10 10 10]\n"
     ]
    }
   ],
   "source": [
    "var = np.array([1,2,3,4])\n",
    "var1 = np.array([9,8,7,6])\n",
    "\n",
    "ar = np.concatenate((var,var1))\n",
    "print(ar)\n",
    "print(var+var1)"
   ]
  },
  {
   "cell_type": "code",
   "execution_count": 215,
   "metadata": {
    "ExecuteTime": {
     "end_time": "2024-05-29T10:43:20.267738Z",
     "start_time": "2024-05-29T10:43:20.250243Z"
    }
   },
   "outputs": [
    {
     "name": "stdout",
     "output_type": "stream",
     "text": [
      "[[1 2]\n",
      " [3 4]]\n",
      "[[9 8]\n",
      " [9 9]]\n",
      "******************\n",
      "[[1 2 9 8]\n",
      " [3 4 9 9]]\n",
      "******************\n",
      "[[1 2]\n",
      " [3 4]\n",
      " [9 8]\n",
      " [9 9]]\n"
     ]
    }
   ],
   "source": [
    "#2d array \n",
    "var2 = np.array([[1,2],[3,4]])\n",
    "print(var2)\n",
    "var3 = np.array([[9,8],[9,9]])\n",
    "print(var3)\n",
    "ar_new = np.concatenate((var2,var3),axis=1)\n",
    "print('******************')\n",
    "print(ar_new)\n",
    "ar_newc = np.concatenate((var2,var3),axis=0)\n",
    "print('******************')\n",
    "print(ar_newc)"
   ]
  },
  {
   "cell_type": "code",
   "execution_count": 224,
   "metadata": {
    "ExecuteTime": {
     "end_time": "2024-05-29T10:46:54.002057Z",
     "start_time": "2024-05-29T10:46:53.997083Z"
    }
   },
   "outputs": [
    {
     "name": "stdout",
     "output_type": "stream",
     "text": [
      "[[1 5]\n",
      " [2 6]\n",
      " [3 7]\n",
      " [4 8]]\n"
     ]
    }
   ],
   "source": [
    "#stack\n",
    "var2 = np.array([1,2,3,4])\n",
    "var3 = np.array([5,6,7,8])\n",
    "\n",
    "a_new = np.stack((var2,var3),axis=1)\n",
    "print(a_new)"
   ]
  },
  {
   "cell_type": "code",
   "execution_count": 222,
   "metadata": {
    "ExecuteTime": {
     "end_time": "2024-05-29T10:46:44.601652Z",
     "start_time": "2024-05-29T10:46:44.585667Z"
    }
   },
   "outputs": [
    {
     "name": "stdout",
     "output_type": "stream",
     "text": [
      "[[1 2 3 4]\n",
      " [5 6 7 8]]\n"
     ]
    }
   ],
   "source": [
    "#stack\n",
    "var2 = np.array([1,2,3,4])\n",
    "var3 = np.array([5,6,7,8])\n",
    "\n",
    "a_new = np.stack((var2,var3),axis=0)\n",
    "print(a_new)"
   ]
  },
  {
   "cell_type": "code",
   "execution_count": 225,
   "metadata": {
    "ExecuteTime": {
     "end_time": "2024-05-29T10:48:23.039740Z",
     "start_time": "2024-05-29T10:48:23.028902Z"
    }
   },
   "outputs": [
    {
     "name": "stdout",
     "output_type": "stream",
     "text": [
      "[1 2 3 4 5 6 7 8]\n"
     ]
    }
   ],
   "source": [
    "#hstack\n",
    "var2 = np.array([1,2,3,4])\n",
    "var3 = np.array([5,6,7,8])\n",
    "\n",
    "a_new = np.hstack((var2,var3)) #rowwise stack\n",
    "print(a_new)"
   ]
  },
  {
   "cell_type": "code",
   "execution_count": 226,
   "metadata": {
    "ExecuteTime": {
     "end_time": "2024-05-29T10:48:59.098924Z",
     "start_time": "2024-05-29T10:48:59.078735Z"
    }
   },
   "outputs": [
    {
     "name": "stdout",
     "output_type": "stream",
     "text": [
      "[[1 2 3 4]\n",
      " [5 6 7 8]]\n"
     ]
    }
   ],
   "source": [
    "#vstack\n",
    "var2 = np.array([1,2,3,4])\n",
    "var3 = np.array([5,6,7,8])\n",
    "\n",
    "a_new = np.vstack((var2,var3)) #column stack\n",
    "print(a_new)"
   ]
  },
  {
   "cell_type": "code",
   "execution_count": 227,
   "metadata": {
    "ExecuteTime": {
     "end_time": "2024-05-29T10:49:51.442363Z",
     "start_time": "2024-05-29T10:49:51.428775Z"
    }
   },
   "outputs": [
    {
     "name": "stdout",
     "output_type": "stream",
     "text": [
      "[[[1 5]\n",
      "  [2 6]\n",
      "  [3 7]\n",
      "  [4 8]]]\n"
     ]
    }
   ],
   "source": [
    "#dstack\n",
    "var2 = np.array([1,2,3,4])\n",
    "var3 = np.array([5,6,7,8])\n",
    "\n",
    "a_new = np.dstack((var2,var3)) #height stack\n",
    "print(a_new)"
   ]
  },
  {
   "cell_type": "code",
   "execution_count": 230,
   "metadata": {
    "ExecuteTime": {
     "end_time": "2024-05-29T10:53:46.874385Z",
     "start_time": "2024-05-29T10:53:46.859191Z"
    }
   },
   "outputs": [
    {
     "name": "stdout",
     "output_type": "stream",
     "text": [
      "[1 2 3 4 5 6]\n",
      "\n",
      "[array([1, 2]), array([3, 4]), array([5, 6])]\n",
      "[1 2]\n"
     ]
    }
   ],
   "source": [
    "#Array_split\n",
    "var = np.array([1,2,3,4,5,6])\n",
    "print(var)\n",
    "print()\n",
    "ar_split = np.array_split(var,3)\n",
    "print(ar_split)\n",
    "print(ar_split[0])"
   ]
  },
  {
   "cell_type": "code",
   "execution_count": 235,
   "metadata": {
    "ExecuteTime": {
     "end_time": "2024-05-29T10:59:14.997522Z",
     "start_time": "2024-05-29T10:59:14.988542Z"
    }
   },
   "outputs": [
    {
     "name": "stdout",
     "output_type": "stream",
     "text": [
      "[1 2 3 4 5 6]\n",
      "[array([[1, 2]]), array([[3, 4]]), array([[5, 6]]), array([], shape=(0, 2), dtype=int32)]\n",
      "[array([[1],\n",
      "       [3],\n",
      "       [5]]), array([[2],\n",
      "       [4],\n",
      "       [6]]), array([], shape=(3, 0), dtype=int32)]\n"
     ]
    }
   ],
   "source": [
    "# split on 2d array\n",
    "var2d = np.array([[1,2],[3,4],[5,6]])\n",
    "print(var)\n",
    "varrd_split = np.array_split(var2d,4)\n",
    "print(varrd_split)\n",
    "varrd_split2 = np.array_split(var2d,3,axis=1)\n",
    "print(varrd_split2)\n"
   ]
  },
  {
   "cell_type": "markdown",
   "metadata": {},
   "source": [
    "# Functions"
   ]
  },
  {
   "cell_type": "markdown",
   "metadata": {},
   "source": [
    "search, sort ,filter, Shuffle, Unique, Resize,Flatten, Ravel"
   ]
  },
  {
   "cell_type": "code",
   "execution_count": 236,
   "metadata": {
    "ExecuteTime": {
     "end_time": "2024-05-29T11:01:39.464022Z",
     "start_time": "2024-05-29T11:01:39.441503Z"
    }
   },
   "outputs": [
    {
     "name": "stdout",
     "output_type": "stream",
     "text": [
      "(array([3, 8], dtype=int64),)\n"
     ]
    }
   ],
   "source": [
    "#search - at which index\n",
    "var = np.array([1,2,3,4,5,6,7,8,4])\n",
    "search_4 = np.where(var==4)\n",
    "print(search_4)"
   ]
  },
  {
   "cell_type": "code",
   "execution_count": 238,
   "metadata": {
    "ExecuteTime": {
     "end_time": "2024-05-29T11:03:12.420492Z",
     "start_time": "2024-05-29T11:03:12.409029Z"
    }
   },
   "outputs": [
    {
     "name": "stdout",
     "output_type": "stream",
     "text": [
      "(array([1, 3, 5, 7, 8, 9], dtype=int64),)\n"
     ]
    }
   ],
   "source": [
    "var = np.array([1,2,3,4,5,6,7,8,4,22])\n",
    "even = np.where(var%2==0)\n",
    "print(even)"
   ]
  },
  {
   "cell_type": "code",
   "execution_count": 247,
   "metadata": {
    "ExecuteTime": {
     "end_time": "2024-05-29T11:10:38.347251Z",
     "start_time": "2024-05-29T11:10:38.327274Z"
    }
   },
   "outputs": [
    {
     "name": "stdout",
     "output_type": "stream",
     "text": [
      "3\n"
     ]
    }
   ],
   "source": [
    "#search sort array\n",
    "var = np.array([1,3,4,6,7,8])# it should be sorted\n",
    "x1 = np.searchsorted(var,5) # this works left to right\n",
    "print(x1)"
   ]
  },
  {
   "cell_type": "code",
   "execution_count": 246,
   "metadata": {
    "ExecuteTime": {
     "end_time": "2024-05-29T11:10:34.063239Z",
     "start_time": "2024-05-29T11:10:34.053730Z"
    }
   },
   "outputs": [
    {
     "name": "stdout",
     "output_type": "stream",
     "text": [
      "4\n"
     ]
    }
   ],
   "source": [
    "#search sort array\n",
    "var = np.array([1,2,3,4,6,7,8,9,19])# it should be sorted\n",
    "x1 = np.searchsorted(var,5,side='right') # this works right to left\n",
    "print(x1)"
   ]
  },
  {
   "cell_type": "code",
   "execution_count": 248,
   "metadata": {
    "ExecuteTime": {
     "end_time": "2024-05-29T11:11:19.029596Z",
     "start_time": "2024-05-29T11:11:19.024292Z"
    }
   },
   "outputs": [
    {
     "name": "stdout",
     "output_type": "stream",
     "text": [
      "[4 4 5]\n"
     ]
    }
   ],
   "source": [
    "var = np.array([1,2,3,4,6,7,8,9,19])# it should be sorted\n",
    "x1 = np.searchsorted(var,[5,6,7]) # this works right to left\n",
    "print(x1)"
   ]
  },
  {
   "cell_type": "code",
   "execution_count": 252,
   "metadata": {
    "ExecuteTime": {
     "end_time": "2024-05-29T11:15:18.328300Z",
     "start_time": "2024-05-29T11:15:18.312639Z"
    }
   },
   "outputs": [
    {
     "name": "stdout",
     "output_type": "stream",
     "text": [
      "[ 1  2  3  4  6  7  8  9 19 22]\n"
     ]
    }
   ],
   "source": [
    "#sort array\n",
    "var_1 = np.array([1,2,3,4,22,6,7,8,9,19])\n",
    "print(np.sort(var_1))\n"
   ]
  },
  {
   "cell_type": "code",
   "execution_count": 253,
   "metadata": {
    "ExecuteTime": {
     "end_time": "2024-05-29T11:15:20.029937Z",
     "start_time": "2024-05-29T11:15:20.019411Z"
    }
   },
   "outputs": [
    {
     "name": "stdout",
     "output_type": "stream",
     "text": [
      "['1' '19' '2' '22' '3' '4' '6' '7' '8' '9' 'a']\n"
     ]
    }
   ],
   "source": [
    "var_1 = np.array([1,'a',2,3,4,22,6,7,8,9,19])\n",
    "print(np.sort(var_1))"
   ]
  },
  {
   "cell_type": "code",
   "execution_count": 254,
   "metadata": {
    "ExecuteTime": {
     "end_time": "2024-05-29T11:16:15.342409Z",
     "start_time": "2024-05-29T11:16:15.333368Z"
    }
   },
   "outputs": [
    {
     "name": "stdout",
     "output_type": "stream",
     "text": [
      "[[ 2  4]\n",
      " [ 3  4]\n",
      " [ 6 22]\n",
      " [ 7  8]\n",
      " [ 9 19]]\n"
     ]
    }
   ],
   "source": [
    "#2d array sort\n",
    "var_1 = np.array([[4,2],[3,4],[22,6],[7,8],[9,19]])\n",
    "print(np.sort(var_1))"
   ]
  },
  {
   "cell_type": "code",
   "execution_count": 257,
   "metadata": {
    "ExecuteTime": {
     "end_time": "2024-05-29T11:20:26.655453Z",
     "start_time": "2024-05-29T11:20:26.634542Z"
    }
   },
   "outputs": [
    {
     "name": "stdout",
     "output_type": "stream",
     "text": [
      "['a' 'c' 'd']\n",
      "<class 'numpy.ndarray'>\n"
     ]
    }
   ],
   "source": [
    "#Filter\n",
    "var_3 = np.array(['a','b','c','d'])\n",
    "f = [True,False,True,True]\n",
    "new_a = var_3[f] #it will return teuw array\n",
    "print(new_a)\n",
    "print(type(new_a))"
   ]
  },
  {
   "cell_type": "code",
   "execution_count": 260,
   "metadata": {
    "ExecuteTime": {
     "end_time": "2024-05-29T11:25:02.989967Z",
     "start_time": "2024-05-29T11:25:02.974964Z"
    }
   },
   "outputs": [
    {
     "name": "stdout",
     "output_type": "stream",
     "text": [
      "[ 1 19  9  3  6  7  4  8  2 22]\n"
     ]
    }
   ],
   "source": [
    "#shuffle\n",
    "var = np.array([1,2,3,4,22,6,7,8,9,19])\n",
    "np.random.shuffle(var)\n",
    "print(var)"
   ]
  },
  {
   "cell_type": "code",
   "execution_count": 263,
   "metadata": {
    "ExecuteTime": {
     "end_time": "2024-05-29T11:26:23.112859Z",
     "start_time": "2024-05-29T11:26:23.099365Z"
    }
   },
   "outputs": [
    {
     "name": "stdout",
     "output_type": "stream",
     "text": [
      "[ 1  2  3  4  5  6  7  8  9 19 22]\n"
     ]
    }
   ],
   "source": [
    "#Unique\n",
    "var = np.array([1,2,3,4,22,6,7,8,9,19,4,5,4])\n",
    "print(np.unique(var))\n"
   ]
  },
  {
   "cell_type": "code",
   "execution_count": 265,
   "metadata": {
    "ExecuteTime": {
     "end_time": "2024-05-29T11:28:16.156271Z",
     "start_time": "2024-05-29T11:28:16.138318Z"
    }
   },
   "outputs": [
    {
     "name": "stdout",
     "output_type": "stream",
     "text": [
      "(array([ 1,  2,  3,  4,  5,  6,  7,  8,  9, 19, 22]), array([ 0,  1,  2,  3, 11,  5,  6,  7,  8,  9,  4], dtype=int64), array([1, 1, 1, 3, 1, 1, 1, 1, 1, 1, 1], dtype=int64))\n"
     ]
    }
   ],
   "source": [
    "#Unique with index and counts\n",
    "var = np.array([1,2,3,4,22,6,7,8,9,19,4,5,4])\n",
    "print(np.unique(var,return_index=True,return_counts=True))\n"
   ]
  },
  {
   "cell_type": "code",
   "execution_count": 269,
   "metadata": {
    "ExecuteTime": {
     "end_time": "2024-05-29T11:30:06.908882Z",
     "start_time": "2024-05-29T11:30:06.901321Z"
    }
   },
   "outputs": [
    {
     "name": "stdout",
     "output_type": "stream",
     "text": [
      "[[ 1  2  3  4 22  6  7  8]\n",
      " [ 9 19  4  5  4  1  2  3]]\n"
     ]
    }
   ],
   "source": [
    "#Resize\n",
    "var = np.array([1,2,3,4,22,6,7,8,9,19,4,5,4])\n",
    "y = np.resize(var,(2,8))\n",
    "print(y)"
   ]
  },
  {
   "cell_type": "code",
   "execution_count": 273,
   "metadata": {
    "ExecuteTime": {
     "end_time": "2024-05-29T11:33:56.108611Z",
     "start_time": "2024-05-29T11:33:56.095644Z"
    }
   },
   "outputs": [
    {
     "name": "stdout",
     "output_type": "stream",
     "text": [
      "[[ 1  2  3  4 22  6  7  8]\n",
      " [ 9 19  4  5  4  1  2  3]]\n",
      "\n",
      "[ 1  2  3  4 22  6  7  8  9 19  4  5  4  1  2  3]\n",
      "\n",
      "[ 1  9  2 19  3  4  4  5 22  4  6  1  7  2  8  3]\n",
      "\n",
      "[ 1  2  3  4 22  6  7  8  9 19  4  5  4  1  2  3]\n",
      "\n",
      "[ 1  2  3  4 22  6  7  8  9 19  4  5  4  1  2  3]\n"
     ]
    }
   ],
   "source": [
    "#Flatten\n",
    "var = np.array([1,2,3,4,22,6,7,8,9,19,4,5,4])\n",
    "y = np.resize(var,(2,8))\n",
    "print(y)\n",
    "print()\n",
    "print(y.flatten())\n",
    "print()\n",
    "print(y.flatten(order='F'))\n",
    "print()\n",
    "print(y.flatten(order='A'))\n",
    "print()\n",
    "print(y.flatten(order='K'))"
   ]
  },
  {
   "cell_type": "code",
   "execution_count": 278,
   "metadata": {
    "ExecuteTime": {
     "end_time": "2024-05-29T11:35:57.141681Z",
     "start_time": "2024-05-29T11:35:57.135696Z"
    }
   },
   "outputs": [
    {
     "name": "stdout",
     "output_type": "stream",
     "text": [
      "[ 1  9  2 19  3  4  4  5 22  4  6  1  7  2  8  3]\n",
      "[ 1  2  3  4 22  6  7  8  9 19  4  5  4  1  2  3]\n"
     ]
    }
   ],
   "source": [
    "#ravel\n",
    "print(np.ravel(y,order = 'F'))\n",
    "print(np.ravel(y))"
   ]
  },
  {
   "cell_type": "markdown",
   "metadata": {},
   "source": [
    "# Insert and Delete"
   ]
  },
  {
   "cell_type": "code",
   "execution_count": 289,
   "metadata": {
    "ExecuteTime": {
     "end_time": "2024-05-29T11:44:44.849782Z",
     "start_time": "2024-05-29T11:44:44.837816Z"
    }
   },
   "outputs": [
    {
     "name": "stdout",
     "output_type": "stream",
     "text": [
      "[ 1 99 88  2  3  4  5  6  7]\n",
      "[ 1 99  2  3  4  5  6 99  7]\n"
     ]
    }
   ],
   "source": [
    "# insert - it will insert only integer value\n",
    "var = np.array([1,2,3,4,5,6,7])\n",
    "v =np.insert(var,1,[99,88]) # insert at single position\n",
    "print(v)\n",
    "v1 =np.insert(var,(1,6),99) # insert at multiple position\n",
    "print(v1)"
   ]
  },
  {
   "cell_type": "code",
   "execution_count": 297,
   "metadata": {
    "ExecuteTime": {
     "end_time": "2024-05-29T11:51:27.094256Z",
     "start_time": "2024-05-29T11:51:27.085712Z"
    }
   },
   "outputs": [
    {
     "name": "stdout",
     "output_type": "stream",
     "text": [
      "[ 1 99  2  3  4]\n",
      "\n",
      "[[ 1  2]\n",
      " [99 99]\n",
      " [ 3  4]]\n",
      "\n",
      "[[ 1  2]\n",
      " [11 99]\n",
      " [ 3  4]]\n",
      "\n",
      "[[ 1 99  2]\n",
      " [ 3 99  4]]\n"
     ]
    }
   ],
   "source": [
    "# insert at 2d array\n",
    "var2 = np.array([[1,2],[3,4]])\n",
    "v1 = np.insert(var2,1,99)# it will flat\n",
    "print(v1)\n",
    "print()\n",
    "v1 = np.insert(var2,1,99,axis=0)# it will add row\n",
    "print(v1)\n",
    "print()\n",
    "v1 = np.insert(var2,1,[11,99],axis=0)# it will add row\n",
    "print(v1)\n",
    "print()\n",
    "v1 = np.insert(var2,1,99,axis=1)# it will add column\n",
    "print(v1)"
   ]
  },
  {
   "cell_type": "code",
   "execution_count": 300,
   "metadata": {
    "ExecuteTime": {
     "end_time": "2024-05-29T11:52:37.015800Z",
     "start_time": "2024-05-29T11:52:36.997539Z"
    }
   },
   "outputs": [
    {
     "name": "stdout",
     "output_type": "stream",
     "text": [
      "[1.  2.  3.  4.  5.  6.  7.  6.5]\n"
     ]
    }
   ],
   "source": [
    "#append\n",
    "var = np.array([1,2,3,4,5,6,7])\n",
    "v =np.append(var,6.5)\n",
    "print(v)\n"
   ]
  },
  {
   "cell_type": "code",
   "execution_count": 308,
   "metadata": {
    "ExecuteTime": {
     "end_time": "2024-05-29T11:55:17.763716Z",
     "start_time": "2024-05-29T11:55:17.718371Z"
    }
   },
   "outputs": [
    {
     "name": "stdout",
     "output_type": "stream",
     "text": [
      "[[1 2]\n",
      " [3 4]\n",
      " [1 9]]\n",
      "************\n"
     ]
    },
    {
     "ename": "ValueError",
     "evalue": "all the input array dimensions for the concatenation axis must match exactly, but along dimension 0, the array at index 0 has size 2 and the array at index 1 has size 1",
     "output_type": "error",
     "traceback": [
      "\u001b[1;31m---------------------------------------------------------------------------\u001b[0m",
      "\u001b[1;31mValueError\u001b[0m                                Traceback (most recent call last)",
      "\u001b[1;32m<ipython-input-308-e800348914eb>\u001b[0m in \u001b[0;36m<module>\u001b[1;34m\u001b[0m\n\u001b[0;32m      4\u001b[0m \u001b[0mprint\u001b[0m\u001b[1;33m(\u001b[0m\u001b[0mv2\u001b[0m\u001b[1;33m)\u001b[0m\u001b[1;33m\u001b[0m\u001b[1;33m\u001b[0m\u001b[0m\n\u001b[0;32m      5\u001b[0m \u001b[0mprint\u001b[0m\u001b[1;33m(\u001b[0m\u001b[1;34m\"************\"\u001b[0m\u001b[1;33m)\u001b[0m\u001b[1;33m\u001b[0m\u001b[1;33m\u001b[0m\u001b[0m\n\u001b[1;32m----> 6\u001b[1;33m \u001b[0mv2\u001b[0m \u001b[1;33m=\u001b[0m \u001b[0mnp\u001b[0m\u001b[1;33m.\u001b[0m\u001b[0mappend\u001b[0m\u001b[1;33m(\u001b[0m\u001b[0mvar2\u001b[0m\u001b[1;33m,\u001b[0m\u001b[1;33m[\u001b[0m\u001b[1;33m[\u001b[0m\u001b[1;36m1\u001b[0m\u001b[1;33m,\u001b[0m\u001b[1;36m9\u001b[0m\u001b[1;33m]\u001b[0m\u001b[1;33m]\u001b[0m\u001b[1;33m,\u001b[0m\u001b[0maxis\u001b[0m\u001b[1;33m=\u001b[0m\u001b[1;36m1\u001b[0m\u001b[1;33m)\u001b[0m\u001b[1;33m\u001b[0m\u001b[1;33m\u001b[0m\u001b[0m\n\u001b[0m\u001b[0;32m      7\u001b[0m \u001b[1;33m\u001b[0m\u001b[0m\n\u001b[0;32m      8\u001b[0m \u001b[0mprint\u001b[0m\u001b[1;33m(\u001b[0m\u001b[0mv2\u001b[0m\u001b[1;33m)\u001b[0m\u001b[1;33m\u001b[0m\u001b[1;33m\u001b[0m\u001b[0m\n",
      "\u001b[1;32m<__array_function__ internals>\u001b[0m in \u001b[0;36mappend\u001b[1;34m(*args, **kwargs)\u001b[0m\n",
      "\u001b[1;32m~\\anaconda3\\lib\\site-packages\\numpy\\lib\\function_base.py\u001b[0m in \u001b[0;36mappend\u001b[1;34m(arr, values, axis)\u001b[0m\n\u001b[0;32m   4691\u001b[0m         \u001b[0mvalues\u001b[0m \u001b[1;33m=\u001b[0m \u001b[0mravel\u001b[0m\u001b[1;33m(\u001b[0m\u001b[0mvalues\u001b[0m\u001b[1;33m)\u001b[0m\u001b[1;33m\u001b[0m\u001b[1;33m\u001b[0m\u001b[0m\n\u001b[0;32m   4692\u001b[0m         \u001b[0maxis\u001b[0m \u001b[1;33m=\u001b[0m \u001b[0marr\u001b[0m\u001b[1;33m.\u001b[0m\u001b[0mndim\u001b[0m\u001b[1;33m-\u001b[0m\u001b[1;36m1\u001b[0m\u001b[1;33m\u001b[0m\u001b[1;33m\u001b[0m\u001b[0m\n\u001b[1;32m-> 4693\u001b[1;33m     \u001b[1;32mreturn\u001b[0m \u001b[0mconcatenate\u001b[0m\u001b[1;33m(\u001b[0m\u001b[1;33m(\u001b[0m\u001b[0marr\u001b[0m\u001b[1;33m,\u001b[0m \u001b[0mvalues\u001b[0m\u001b[1;33m)\u001b[0m\u001b[1;33m,\u001b[0m \u001b[0maxis\u001b[0m\u001b[1;33m=\u001b[0m\u001b[0maxis\u001b[0m\u001b[1;33m)\u001b[0m\u001b[1;33m\u001b[0m\u001b[1;33m\u001b[0m\u001b[0m\n\u001b[0m\u001b[0;32m   4694\u001b[0m \u001b[1;33m\u001b[0m\u001b[0m\n\u001b[0;32m   4695\u001b[0m \u001b[1;33m\u001b[0m\u001b[0m\n",
      "\u001b[1;32m<__array_function__ internals>\u001b[0m in \u001b[0;36mconcatenate\u001b[1;34m(*args, **kwargs)\u001b[0m\n",
      "\u001b[1;31mValueError\u001b[0m: all the input array dimensions for the concatenation axis must match exactly, but along dimension 0, the array at index 0 has size 2 and the array at index 1 has size 1"
     ]
    }
   ],
   "source": [
    "var2 = np.array([[1,2],[3,4]])\n",
    "v2 = np.append(var2,[[1,9]],axis=0)\n",
    "\n",
    "print(v2)\n",
    "print(\"************\")\n",
    "v2 = np.append(var2,[[1,9]],axis=1) # why not working\n",
    "\n",
    "print(v2)"
   ]
  },
  {
   "cell_type": "code",
   "execution_count": 309,
   "metadata": {
    "ExecuteTime": {
     "end_time": "2024-05-29T11:57:10.563797Z",
     "start_time": "2024-05-29T11:57:10.546822Z"
    }
   },
   "outputs": [
    {
     "name": "stdout",
     "output_type": "stream",
     "text": [
      "[1 2 3 4 6 7]\n"
     ]
    }
   ],
   "source": [
    "#delete - index wise deletion\n",
    "var = np.array([1,2,3,4,5,6,7])\n",
    "v_del = np.delete(var,4)\n",
    "print(v_del)"
   ]
  },
  {
   "cell_type": "markdown",
   "metadata": {},
   "source": [
    "# Matrix"
   ]
  },
  {
   "cell_type": "code",
   "execution_count": 318,
   "metadata": {
    "ExecuteTime": {
     "end_time": "2024-05-29T12:11:16.618310Z",
     "start_time": "2024-05-29T12:11:16.598366Z"
    }
   },
   "outputs": [
    {
     "name": "stdout",
     "output_type": "stream",
     "text": [
      "[[ 7 10]\n",
      " [15 22]]\n",
      "[[ 7 10]\n",
      " [15 22]]\n"
     ]
    }
   ],
   "source": [
    "m1 = np.matrix([[1,2],[3,4]])\n",
    "m2 = np.matrix([[1,2],[3,4]])\n",
    "print(m1.dot(m2))\n",
    "print(m1*m2)"
   ]
  },
  {
   "cell_type": "code",
   "execution_count": 321,
   "metadata": {
    "ExecuteTime": {
     "end_time": "2024-05-29T12:12:36.921642Z",
     "start_time": "2024-05-29T12:12:36.914509Z"
    }
   },
   "outputs": [
    {
     "name": "stdout",
     "output_type": "stream",
     "text": [
      "[[1 2]\n",
      " [3 4]]\n",
      "\n",
      "[[1 3]\n",
      " [2 4]]\n",
      "[[1 3]\n",
      " [2 4]]\n"
     ]
    }
   ],
   "source": [
    "#Transpose\n",
    "m1 = np.matrix([[1,2],[3,4]])\n",
    "print(m1)\n",
    "print()\n",
    "print(np.transpose(m1))\n",
    "print(m1.T)"
   ]
  },
  {
   "cell_type": "code",
   "execution_count": 324,
   "metadata": {
    "ExecuteTime": {
     "end_time": "2024-05-29T12:13:44.933646Z",
     "start_time": "2024-05-29T12:13:44.921145Z"
    }
   },
   "outputs": [
    {
     "name": "stdout",
     "output_type": "stream",
     "text": [
      "[[1 2]\n",
      " [3 4]]\n",
      "[[1 3]\n",
      " [2 4]]\n"
     ]
    }
   ],
   "source": [
    "# swapaxes\n",
    "m1 = np.matrix([[1,2],[3,4]])\n",
    "print(m1)\n",
    "print(np.swapaxes(m1,1,0))\n",
    "\n"
   ]
  },
  {
   "cell_type": "code",
   "execution_count": 327,
   "metadata": {
    "ExecuteTime": {
     "end_time": "2024-05-29T12:15:59.282758Z",
     "start_time": "2024-05-29T12:15:59.229344Z"
    }
   },
   "outputs": [
    {
     "name": "stdout",
     "output_type": "stream",
     "text": [
      "[[-2.   1. ]\n",
      " [ 1.5 -0.5]]\n"
     ]
    }
   ],
   "source": [
    "#Inverse\n",
    "m1 = np.matrix([[1,2],[3,4]])\n",
    "print(np.linalg.inv(m1))\n"
   ]
  },
  {
   "cell_type": "code",
   "execution_count": 331,
   "metadata": {
    "ExecuteTime": {
     "end_time": "2024-05-29T12:19:36.089455Z",
     "start_time": "2024-05-29T12:19:36.083468Z"
    }
   },
   "outputs": [
    {
     "name": "stdout",
     "output_type": "stream",
     "text": [
      "[[1 0]\n",
      " [0 1]]\n",
      "\n",
      "[[ 5.5  -2.5 ]\n",
      " [-3.75  1.75]]\n",
      "\n",
      "[[ 7 10]\n",
      " [15 22]]\n"
     ]
    }
   ],
   "source": [
    "#Power\n",
    "m1 = np.matrix([[1,2],[3,4]])\n",
    "print(np.linalg.matrix_power(m1,0))\n",
    "print()\n",
    "print(np.linalg.matrix_power(m1,-2))\n",
    "print()\n",
    "print(np.linalg.matrix_power(m1,2))"
   ]
  },
  {
   "cell_type": "code",
   "execution_count": 337,
   "metadata": {
    "ExecuteTime": {
     "end_time": "2024-05-29T12:23:38.106242Z",
     "start_time": "2024-05-29T12:23:38.096268Z"
    }
   },
   "outputs": [
    {
     "name": "stdout",
     "output_type": "stream",
     "text": [
      "-12.000000000000005\n"
     ]
    }
   ],
   "source": [
    "#Determinate\n",
    "m1 = np.matrix([[1,2,3,4],[3,4,4,1],[1,1,2,3],[1,3,2,3]])\n",
    "print(np.linalg.det(m1))"
   ]
  },
  {
   "cell_type": "code",
   "execution_count": null,
   "metadata": {},
   "outputs": [],
   "source": []
  }
 ],
 "metadata": {
  "kernelspec": {
   "display_name": "Python 3",
   "language": "python",
   "name": "python3"
  },
  "language_info": {
   "codemirror_mode": {
    "name": "ipython",
    "version": 3
   },
   "file_extension": ".py",
   "mimetype": "text/x-python",
   "name": "python",
   "nbconvert_exporter": "python",
   "pygments_lexer": "ipython3",
   "version": "3.7.6"
  }
 },
 "nbformat": 4,
 "nbformat_minor": 4
}
